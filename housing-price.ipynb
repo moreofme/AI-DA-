{
 "cells": [
  {
   "cell_type": "code",
   "execution_count": 1,
   "id": "9aec1c59",
   "metadata": {
    "execution": {
     "iopub.execute_input": "2023-03-02T19:58:50.815824Z",
     "iopub.status.busy": "2023-03-02T19:58:50.814867Z",
     "iopub.status.idle": "2023-03-02T19:58:52.664660Z",
     "shell.execute_reply": "2023-03-02T19:58:52.662889Z"
    },
    "papermill": {
     "duration": 1.87024,
     "end_time": "2023-03-02T19:58:52.667928",
     "exception": false,
     "start_time": "2023-03-02T19:58:50.797688",
     "status": "completed"
    },
    "tags": []
   },
   "outputs": [],
   "source": [
    "#Import Libraries\n",
    "import numpy as np\n",
    "import pandas as pd\n",
    "import matplotlib.pyplot as plt\n",
    "import seaborn as sns\n",
    "from sklearn.impute import SimpleImputer\n",
    "from sklearn.preprocessing import MinMaxScaler\n",
    "from sklearn.feature_selection import SelectFromModel\n",
    "from sklearn.linear_model import LinearRegression\n",
    "from sklearn.ensemble import RandomForestRegressor\n",
    "from sklearn.tree import DecisionTreeRegressor\n",
    "import warnings\n",
    "warnings.filterwarnings('ignore')\n",
    "%matplotlib inline"
   ]
  },
  {
   "cell_type": "markdown",
   "id": "5fcbcf25",
   "metadata": {
    "papermill": {
     "duration": 0.012377,
     "end_time": "2023-03-02T19:58:52.693478",
     "exception": false,
     "start_time": "2023-03-02T19:58:52.681101",
     "status": "completed"
    },
    "tags": []
   },
   "source": [
    "#      Reading Data"
   ]
  },
  {
   "cell_type": "code",
   "execution_count": 2,
   "id": "7a62cdfd",
   "metadata": {
    "execution": {
     "iopub.execute_input": "2023-03-02T19:58:52.722924Z",
     "iopub.status.busy": "2023-03-02T19:58:52.721965Z",
     "iopub.status.idle": "2023-03-02T19:58:52.850672Z",
     "shell.execute_reply": "2023-03-02T19:58:52.848940Z"
    },
    "papermill": {
     "duration": 0.146529,
     "end_time": "2023-03-02T19:58:52.854228",
     "exception": false,
     "start_time": "2023-03-02T19:58:52.707699",
     "status": "completed"
    },
    "tags": []
   },
   "outputs": [],
   "source": [
    "train0 = pd.read_csv('../input/house-prices-advanced-regression-techniques/train.csv')\n",
    "test0 = pd.read_csv('../input/house-prices-advanced-regression-techniques/test.csv')\n",
    "subm=pd.read_csv('/kaggle/input/house-prices-advanced-regression-techniques/sample_submission.csv')\n",
    "test0[\"SalePrice\"]=subm[\"SalePrice\"]\n",
    "df_train = pd.concat([train0, test0], axis=0).reset_index(drop=True)"
   ]
  },
  {
   "cell_type": "code",
   "execution_count": 3,
   "id": "aa07fcdb",
   "metadata": {
    "execution": {
     "iopub.execute_input": "2023-03-02T19:58:52.883673Z",
     "iopub.status.busy": "2023-03-02T19:58:52.883168Z",
     "iopub.status.idle": "2023-03-02T19:58:52.928553Z",
     "shell.execute_reply": "2023-03-02T19:58:52.927214Z"
    },
    "papermill": {
     "duration": 0.064505,
     "end_time": "2023-03-02T19:58:52.932152",
     "exception": false,
     "start_time": "2023-03-02T19:58:52.867647",
     "status": "completed"
    },
    "tags": []
   },
   "outputs": [
    {
     "data": {
      "text/html": [
       "<div>\n",
       "<style scoped>\n",
       "    .dataframe tbody tr th:only-of-type {\n",
       "        vertical-align: middle;\n",
       "    }\n",
       "\n",
       "    .dataframe tbody tr th {\n",
       "        vertical-align: top;\n",
       "    }\n",
       "\n",
       "    .dataframe thead th {\n",
       "        text-align: right;\n",
       "    }\n",
       "</style>\n",
       "<table border=\"1\" class=\"dataframe\">\n",
       "  <thead>\n",
       "    <tr style=\"text-align: right;\">\n",
       "      <th></th>\n",
       "      <th>Id</th>\n",
       "      <th>MSSubClass</th>\n",
       "      <th>MSZoning</th>\n",
       "      <th>LotFrontage</th>\n",
       "      <th>LotArea</th>\n",
       "      <th>Street</th>\n",
       "      <th>Alley</th>\n",
       "      <th>LotShape</th>\n",
       "      <th>LandContour</th>\n",
       "      <th>Utilities</th>\n",
       "      <th>...</th>\n",
       "      <th>PoolArea</th>\n",
       "      <th>PoolQC</th>\n",
       "      <th>Fence</th>\n",
       "      <th>MiscFeature</th>\n",
       "      <th>MiscVal</th>\n",
       "      <th>MoSold</th>\n",
       "      <th>YrSold</th>\n",
       "      <th>SaleType</th>\n",
       "      <th>SaleCondition</th>\n",
       "      <th>SalePrice</th>\n",
       "    </tr>\n",
       "  </thead>\n",
       "  <tbody>\n",
       "    <tr>\n",
       "      <th>0</th>\n",
       "      <td>1</td>\n",
       "      <td>60</td>\n",
       "      <td>RL</td>\n",
       "      <td>65.0</td>\n",
       "      <td>8450</td>\n",
       "      <td>Pave</td>\n",
       "      <td>NaN</td>\n",
       "      <td>Reg</td>\n",
       "      <td>Lvl</td>\n",
       "      <td>AllPub</td>\n",
       "      <td>...</td>\n",
       "      <td>0</td>\n",
       "      <td>NaN</td>\n",
       "      <td>NaN</td>\n",
       "      <td>NaN</td>\n",
       "      <td>0</td>\n",
       "      <td>2</td>\n",
       "      <td>2008</td>\n",
       "      <td>WD</td>\n",
       "      <td>Normal</td>\n",
       "      <td>208500.0</td>\n",
       "    </tr>\n",
       "    <tr>\n",
       "      <th>1</th>\n",
       "      <td>2</td>\n",
       "      <td>20</td>\n",
       "      <td>RL</td>\n",
       "      <td>80.0</td>\n",
       "      <td>9600</td>\n",
       "      <td>Pave</td>\n",
       "      <td>NaN</td>\n",
       "      <td>Reg</td>\n",
       "      <td>Lvl</td>\n",
       "      <td>AllPub</td>\n",
       "      <td>...</td>\n",
       "      <td>0</td>\n",
       "      <td>NaN</td>\n",
       "      <td>NaN</td>\n",
       "      <td>NaN</td>\n",
       "      <td>0</td>\n",
       "      <td>5</td>\n",
       "      <td>2007</td>\n",
       "      <td>WD</td>\n",
       "      <td>Normal</td>\n",
       "      <td>181500.0</td>\n",
       "    </tr>\n",
       "    <tr>\n",
       "      <th>2</th>\n",
       "      <td>3</td>\n",
       "      <td>60</td>\n",
       "      <td>RL</td>\n",
       "      <td>68.0</td>\n",
       "      <td>11250</td>\n",
       "      <td>Pave</td>\n",
       "      <td>NaN</td>\n",
       "      <td>IR1</td>\n",
       "      <td>Lvl</td>\n",
       "      <td>AllPub</td>\n",
       "      <td>...</td>\n",
       "      <td>0</td>\n",
       "      <td>NaN</td>\n",
       "      <td>NaN</td>\n",
       "      <td>NaN</td>\n",
       "      <td>0</td>\n",
       "      <td>9</td>\n",
       "      <td>2008</td>\n",
       "      <td>WD</td>\n",
       "      <td>Normal</td>\n",
       "      <td>223500.0</td>\n",
       "    </tr>\n",
       "    <tr>\n",
       "      <th>3</th>\n",
       "      <td>4</td>\n",
       "      <td>70</td>\n",
       "      <td>RL</td>\n",
       "      <td>60.0</td>\n",
       "      <td>9550</td>\n",
       "      <td>Pave</td>\n",
       "      <td>NaN</td>\n",
       "      <td>IR1</td>\n",
       "      <td>Lvl</td>\n",
       "      <td>AllPub</td>\n",
       "      <td>...</td>\n",
       "      <td>0</td>\n",
       "      <td>NaN</td>\n",
       "      <td>NaN</td>\n",
       "      <td>NaN</td>\n",
       "      <td>0</td>\n",
       "      <td>2</td>\n",
       "      <td>2006</td>\n",
       "      <td>WD</td>\n",
       "      <td>Abnorml</td>\n",
       "      <td>140000.0</td>\n",
       "    </tr>\n",
       "    <tr>\n",
       "      <th>4</th>\n",
       "      <td>5</td>\n",
       "      <td>60</td>\n",
       "      <td>RL</td>\n",
       "      <td>84.0</td>\n",
       "      <td>14260</td>\n",
       "      <td>Pave</td>\n",
       "      <td>NaN</td>\n",
       "      <td>IR1</td>\n",
       "      <td>Lvl</td>\n",
       "      <td>AllPub</td>\n",
       "      <td>...</td>\n",
       "      <td>0</td>\n",
       "      <td>NaN</td>\n",
       "      <td>NaN</td>\n",
       "      <td>NaN</td>\n",
       "      <td>0</td>\n",
       "      <td>12</td>\n",
       "      <td>2008</td>\n",
       "      <td>WD</td>\n",
       "      <td>Normal</td>\n",
       "      <td>250000.0</td>\n",
       "    </tr>\n",
       "    <tr>\n",
       "      <th>5</th>\n",
       "      <td>6</td>\n",
       "      <td>50</td>\n",
       "      <td>RL</td>\n",
       "      <td>85.0</td>\n",
       "      <td>14115</td>\n",
       "      <td>Pave</td>\n",
       "      <td>NaN</td>\n",
       "      <td>IR1</td>\n",
       "      <td>Lvl</td>\n",
       "      <td>AllPub</td>\n",
       "      <td>...</td>\n",
       "      <td>0</td>\n",
       "      <td>NaN</td>\n",
       "      <td>MnPrv</td>\n",
       "      <td>Shed</td>\n",
       "      <td>700</td>\n",
       "      <td>10</td>\n",
       "      <td>2009</td>\n",
       "      <td>WD</td>\n",
       "      <td>Normal</td>\n",
       "      <td>143000.0</td>\n",
       "    </tr>\n",
       "    <tr>\n",
       "      <th>6</th>\n",
       "      <td>7</td>\n",
       "      <td>20</td>\n",
       "      <td>RL</td>\n",
       "      <td>75.0</td>\n",
       "      <td>10084</td>\n",
       "      <td>Pave</td>\n",
       "      <td>NaN</td>\n",
       "      <td>Reg</td>\n",
       "      <td>Lvl</td>\n",
       "      <td>AllPub</td>\n",
       "      <td>...</td>\n",
       "      <td>0</td>\n",
       "      <td>NaN</td>\n",
       "      <td>NaN</td>\n",
       "      <td>NaN</td>\n",
       "      <td>0</td>\n",
       "      <td>8</td>\n",
       "      <td>2007</td>\n",
       "      <td>WD</td>\n",
       "      <td>Normal</td>\n",
       "      <td>307000.0</td>\n",
       "    </tr>\n",
       "    <tr>\n",
       "      <th>7</th>\n",
       "      <td>8</td>\n",
       "      <td>60</td>\n",
       "      <td>RL</td>\n",
       "      <td>NaN</td>\n",
       "      <td>10382</td>\n",
       "      <td>Pave</td>\n",
       "      <td>NaN</td>\n",
       "      <td>IR1</td>\n",
       "      <td>Lvl</td>\n",
       "      <td>AllPub</td>\n",
       "      <td>...</td>\n",
       "      <td>0</td>\n",
       "      <td>NaN</td>\n",
       "      <td>NaN</td>\n",
       "      <td>Shed</td>\n",
       "      <td>350</td>\n",
       "      <td>11</td>\n",
       "      <td>2009</td>\n",
       "      <td>WD</td>\n",
       "      <td>Normal</td>\n",
       "      <td>200000.0</td>\n",
       "    </tr>\n",
       "    <tr>\n",
       "      <th>8</th>\n",
       "      <td>9</td>\n",
       "      <td>50</td>\n",
       "      <td>RM</td>\n",
       "      <td>51.0</td>\n",
       "      <td>6120</td>\n",
       "      <td>Pave</td>\n",
       "      <td>NaN</td>\n",
       "      <td>Reg</td>\n",
       "      <td>Lvl</td>\n",
       "      <td>AllPub</td>\n",
       "      <td>...</td>\n",
       "      <td>0</td>\n",
       "      <td>NaN</td>\n",
       "      <td>NaN</td>\n",
       "      <td>NaN</td>\n",
       "      <td>0</td>\n",
       "      <td>4</td>\n",
       "      <td>2008</td>\n",
       "      <td>WD</td>\n",
       "      <td>Abnorml</td>\n",
       "      <td>129900.0</td>\n",
       "    </tr>\n",
       "    <tr>\n",
       "      <th>9</th>\n",
       "      <td>10</td>\n",
       "      <td>190</td>\n",
       "      <td>RL</td>\n",
       "      <td>50.0</td>\n",
       "      <td>7420</td>\n",
       "      <td>Pave</td>\n",
       "      <td>NaN</td>\n",
       "      <td>Reg</td>\n",
       "      <td>Lvl</td>\n",
       "      <td>AllPub</td>\n",
       "      <td>...</td>\n",
       "      <td>0</td>\n",
       "      <td>NaN</td>\n",
       "      <td>NaN</td>\n",
       "      <td>NaN</td>\n",
       "      <td>0</td>\n",
       "      <td>1</td>\n",
       "      <td>2008</td>\n",
       "      <td>WD</td>\n",
       "      <td>Normal</td>\n",
       "      <td>118000.0</td>\n",
       "    </tr>\n",
       "  </tbody>\n",
       "</table>\n",
       "<p>10 rows × 81 columns</p>\n",
       "</div>"
      ],
      "text/plain": [
       "   Id  MSSubClass MSZoning  LotFrontage  LotArea Street Alley LotShape  \\\n",
       "0   1          60       RL         65.0     8450   Pave   NaN      Reg   \n",
       "1   2          20       RL         80.0     9600   Pave   NaN      Reg   \n",
       "2   3          60       RL         68.0    11250   Pave   NaN      IR1   \n",
       "3   4          70       RL         60.0     9550   Pave   NaN      IR1   \n",
       "4   5          60       RL         84.0    14260   Pave   NaN      IR1   \n",
       "5   6          50       RL         85.0    14115   Pave   NaN      IR1   \n",
       "6   7          20       RL         75.0    10084   Pave   NaN      Reg   \n",
       "7   8          60       RL          NaN    10382   Pave   NaN      IR1   \n",
       "8   9          50       RM         51.0     6120   Pave   NaN      Reg   \n",
       "9  10         190       RL         50.0     7420   Pave   NaN      Reg   \n",
       "\n",
       "  LandContour Utilities  ... PoolArea PoolQC  Fence MiscFeature MiscVal  \\\n",
       "0         Lvl    AllPub  ...        0    NaN    NaN         NaN       0   \n",
       "1         Lvl    AllPub  ...        0    NaN    NaN         NaN       0   \n",
       "2         Lvl    AllPub  ...        0    NaN    NaN         NaN       0   \n",
       "3         Lvl    AllPub  ...        0    NaN    NaN         NaN       0   \n",
       "4         Lvl    AllPub  ...        0    NaN    NaN         NaN       0   \n",
       "5         Lvl    AllPub  ...        0    NaN  MnPrv        Shed     700   \n",
       "6         Lvl    AllPub  ...        0    NaN    NaN         NaN       0   \n",
       "7         Lvl    AllPub  ...        0    NaN    NaN        Shed     350   \n",
       "8         Lvl    AllPub  ...        0    NaN    NaN         NaN       0   \n",
       "9         Lvl    AllPub  ...        0    NaN    NaN         NaN       0   \n",
       "\n",
       "  MoSold YrSold  SaleType  SaleCondition  SalePrice  \n",
       "0      2   2008        WD         Normal   208500.0  \n",
       "1      5   2007        WD         Normal   181500.0  \n",
       "2      9   2008        WD         Normal   223500.0  \n",
       "3      2   2006        WD        Abnorml   140000.0  \n",
       "4     12   2008        WD         Normal   250000.0  \n",
       "5     10   2009        WD         Normal   143000.0  \n",
       "6      8   2007        WD         Normal   307000.0  \n",
       "7     11   2009        WD         Normal   200000.0  \n",
       "8      4   2008        WD        Abnorml   129900.0  \n",
       "9      1   2008        WD         Normal   118000.0  \n",
       "\n",
       "[10 rows x 81 columns]"
      ]
     },
     "execution_count": 3,
     "metadata": {},
     "output_type": "execute_result"
    }
   ],
   "source": [
    "df_train.head(10)"
   ]
  },
  {
   "cell_type": "code",
   "execution_count": 4,
   "id": "ed5e5765",
   "metadata": {
    "execution": {
     "iopub.execute_input": "2023-03-02T19:58:52.964563Z",
     "iopub.status.busy": "2023-03-02T19:58:52.963677Z",
     "iopub.status.idle": "2023-03-02T19:58:52.997872Z",
     "shell.execute_reply": "2023-03-02T19:58:52.996318Z"
    },
    "papermill": {
     "duration": 0.055022,
     "end_time": "2023-03-02T19:58:53.000955",
     "exception": false,
     "start_time": "2023-03-02T19:58:52.945933",
     "status": "completed"
    },
    "tags": []
   },
   "outputs": [
    {
     "data": {
      "text/html": [
       "<div>\n",
       "<style scoped>\n",
       "    .dataframe tbody tr th:only-of-type {\n",
       "        vertical-align: middle;\n",
       "    }\n",
       "\n",
       "    .dataframe tbody tr th {\n",
       "        vertical-align: top;\n",
       "    }\n",
       "\n",
       "    .dataframe thead th {\n",
       "        text-align: right;\n",
       "    }\n",
       "</style>\n",
       "<table border=\"1\" class=\"dataframe\">\n",
       "  <thead>\n",
       "    <tr style=\"text-align: right;\">\n",
       "      <th></th>\n",
       "      <th>Id</th>\n",
       "      <th>MSSubClass</th>\n",
       "      <th>MSZoning</th>\n",
       "      <th>LotFrontage</th>\n",
       "      <th>LotArea</th>\n",
       "      <th>Street</th>\n",
       "      <th>Alley</th>\n",
       "      <th>LotShape</th>\n",
       "      <th>LandContour</th>\n",
       "      <th>Utilities</th>\n",
       "      <th>...</th>\n",
       "      <th>PoolArea</th>\n",
       "      <th>PoolQC</th>\n",
       "      <th>Fence</th>\n",
       "      <th>MiscFeature</th>\n",
       "      <th>MiscVal</th>\n",
       "      <th>MoSold</th>\n",
       "      <th>YrSold</th>\n",
       "      <th>SaleType</th>\n",
       "      <th>SaleCondition</th>\n",
       "      <th>SalePrice</th>\n",
       "    </tr>\n",
       "  </thead>\n",
       "  <tbody>\n",
       "    <tr>\n",
       "      <th>2909</th>\n",
       "      <td>2910</td>\n",
       "      <td>180</td>\n",
       "      <td>RM</td>\n",
       "      <td>21.0</td>\n",
       "      <td>1470</td>\n",
       "      <td>Pave</td>\n",
       "      <td>NaN</td>\n",
       "      <td>Reg</td>\n",
       "      <td>Lvl</td>\n",
       "      <td>AllPub</td>\n",
       "      <td>...</td>\n",
       "      <td>0</td>\n",
       "      <td>NaN</td>\n",
       "      <td>NaN</td>\n",
       "      <td>NaN</td>\n",
       "      <td>0</td>\n",
       "      <td>4</td>\n",
       "      <td>2006</td>\n",
       "      <td>WD</td>\n",
       "      <td>Normal</td>\n",
       "      <td>137402.569856</td>\n",
       "    </tr>\n",
       "    <tr>\n",
       "      <th>2910</th>\n",
       "      <td>2911</td>\n",
       "      <td>160</td>\n",
       "      <td>RM</td>\n",
       "      <td>21.0</td>\n",
       "      <td>1484</td>\n",
       "      <td>Pave</td>\n",
       "      <td>NaN</td>\n",
       "      <td>Reg</td>\n",
       "      <td>Lvl</td>\n",
       "      <td>AllPub</td>\n",
       "      <td>...</td>\n",
       "      <td>0</td>\n",
       "      <td>NaN</td>\n",
       "      <td>NaN</td>\n",
       "      <td>NaN</td>\n",
       "      <td>0</td>\n",
       "      <td>5</td>\n",
       "      <td>2006</td>\n",
       "      <td>WD</td>\n",
       "      <td>Normal</td>\n",
       "      <td>165086.775062</td>\n",
       "    </tr>\n",
       "    <tr>\n",
       "      <th>2911</th>\n",
       "      <td>2912</td>\n",
       "      <td>20</td>\n",
       "      <td>RL</td>\n",
       "      <td>80.0</td>\n",
       "      <td>13384</td>\n",
       "      <td>Pave</td>\n",
       "      <td>NaN</td>\n",
       "      <td>Reg</td>\n",
       "      <td>Lvl</td>\n",
       "      <td>AllPub</td>\n",
       "      <td>...</td>\n",
       "      <td>0</td>\n",
       "      <td>NaN</td>\n",
       "      <td>NaN</td>\n",
       "      <td>NaN</td>\n",
       "      <td>0</td>\n",
       "      <td>5</td>\n",
       "      <td>2006</td>\n",
       "      <td>WD</td>\n",
       "      <td>Normal</td>\n",
       "      <td>188506.431412</td>\n",
       "    </tr>\n",
       "    <tr>\n",
       "      <th>2912</th>\n",
       "      <td>2913</td>\n",
       "      <td>160</td>\n",
       "      <td>RM</td>\n",
       "      <td>21.0</td>\n",
       "      <td>1533</td>\n",
       "      <td>Pave</td>\n",
       "      <td>NaN</td>\n",
       "      <td>Reg</td>\n",
       "      <td>Lvl</td>\n",
       "      <td>AllPub</td>\n",
       "      <td>...</td>\n",
       "      <td>0</td>\n",
       "      <td>NaN</td>\n",
       "      <td>NaN</td>\n",
       "      <td>NaN</td>\n",
       "      <td>0</td>\n",
       "      <td>12</td>\n",
       "      <td>2006</td>\n",
       "      <td>WD</td>\n",
       "      <td>Abnorml</td>\n",
       "      <td>172917.456816</td>\n",
       "    </tr>\n",
       "    <tr>\n",
       "      <th>2913</th>\n",
       "      <td>2914</td>\n",
       "      <td>160</td>\n",
       "      <td>RM</td>\n",
       "      <td>21.0</td>\n",
       "      <td>1526</td>\n",
       "      <td>Pave</td>\n",
       "      <td>NaN</td>\n",
       "      <td>Reg</td>\n",
       "      <td>Lvl</td>\n",
       "      <td>AllPub</td>\n",
       "      <td>...</td>\n",
       "      <td>0</td>\n",
       "      <td>NaN</td>\n",
       "      <td>GdPrv</td>\n",
       "      <td>NaN</td>\n",
       "      <td>0</td>\n",
       "      <td>6</td>\n",
       "      <td>2006</td>\n",
       "      <td>WD</td>\n",
       "      <td>Normal</td>\n",
       "      <td>166274.325226</td>\n",
       "    </tr>\n",
       "    <tr>\n",
       "      <th>2914</th>\n",
       "      <td>2915</td>\n",
       "      <td>160</td>\n",
       "      <td>RM</td>\n",
       "      <td>21.0</td>\n",
       "      <td>1936</td>\n",
       "      <td>Pave</td>\n",
       "      <td>NaN</td>\n",
       "      <td>Reg</td>\n",
       "      <td>Lvl</td>\n",
       "      <td>AllPub</td>\n",
       "      <td>...</td>\n",
       "      <td>0</td>\n",
       "      <td>NaN</td>\n",
       "      <td>NaN</td>\n",
       "      <td>NaN</td>\n",
       "      <td>0</td>\n",
       "      <td>6</td>\n",
       "      <td>2006</td>\n",
       "      <td>WD</td>\n",
       "      <td>Normal</td>\n",
       "      <td>167081.220949</td>\n",
       "    </tr>\n",
       "    <tr>\n",
       "      <th>2915</th>\n",
       "      <td>2916</td>\n",
       "      <td>160</td>\n",
       "      <td>RM</td>\n",
       "      <td>21.0</td>\n",
       "      <td>1894</td>\n",
       "      <td>Pave</td>\n",
       "      <td>NaN</td>\n",
       "      <td>Reg</td>\n",
       "      <td>Lvl</td>\n",
       "      <td>AllPub</td>\n",
       "      <td>...</td>\n",
       "      <td>0</td>\n",
       "      <td>NaN</td>\n",
       "      <td>NaN</td>\n",
       "      <td>NaN</td>\n",
       "      <td>0</td>\n",
       "      <td>4</td>\n",
       "      <td>2006</td>\n",
       "      <td>WD</td>\n",
       "      <td>Abnorml</td>\n",
       "      <td>164788.778231</td>\n",
       "    </tr>\n",
       "    <tr>\n",
       "      <th>2916</th>\n",
       "      <td>2917</td>\n",
       "      <td>20</td>\n",
       "      <td>RL</td>\n",
       "      <td>160.0</td>\n",
       "      <td>20000</td>\n",
       "      <td>Pave</td>\n",
       "      <td>NaN</td>\n",
       "      <td>Reg</td>\n",
       "      <td>Lvl</td>\n",
       "      <td>AllPub</td>\n",
       "      <td>...</td>\n",
       "      <td>0</td>\n",
       "      <td>NaN</td>\n",
       "      <td>NaN</td>\n",
       "      <td>NaN</td>\n",
       "      <td>0</td>\n",
       "      <td>9</td>\n",
       "      <td>2006</td>\n",
       "      <td>WD</td>\n",
       "      <td>Abnorml</td>\n",
       "      <td>219222.423400</td>\n",
       "    </tr>\n",
       "    <tr>\n",
       "      <th>2917</th>\n",
       "      <td>2918</td>\n",
       "      <td>85</td>\n",
       "      <td>RL</td>\n",
       "      <td>62.0</td>\n",
       "      <td>10441</td>\n",
       "      <td>Pave</td>\n",
       "      <td>NaN</td>\n",
       "      <td>Reg</td>\n",
       "      <td>Lvl</td>\n",
       "      <td>AllPub</td>\n",
       "      <td>...</td>\n",
       "      <td>0</td>\n",
       "      <td>NaN</td>\n",
       "      <td>MnPrv</td>\n",
       "      <td>Shed</td>\n",
       "      <td>700</td>\n",
       "      <td>7</td>\n",
       "      <td>2006</td>\n",
       "      <td>WD</td>\n",
       "      <td>Normal</td>\n",
       "      <td>184924.279659</td>\n",
       "    </tr>\n",
       "    <tr>\n",
       "      <th>2918</th>\n",
       "      <td>2919</td>\n",
       "      <td>60</td>\n",
       "      <td>RL</td>\n",
       "      <td>74.0</td>\n",
       "      <td>9627</td>\n",
       "      <td>Pave</td>\n",
       "      <td>NaN</td>\n",
       "      <td>Reg</td>\n",
       "      <td>Lvl</td>\n",
       "      <td>AllPub</td>\n",
       "      <td>...</td>\n",
       "      <td>0</td>\n",
       "      <td>NaN</td>\n",
       "      <td>NaN</td>\n",
       "      <td>NaN</td>\n",
       "      <td>0</td>\n",
       "      <td>11</td>\n",
       "      <td>2006</td>\n",
       "      <td>WD</td>\n",
       "      <td>Normal</td>\n",
       "      <td>187741.866657</td>\n",
       "    </tr>\n",
       "  </tbody>\n",
       "</table>\n",
       "<p>10 rows × 81 columns</p>\n",
       "</div>"
      ],
      "text/plain": [
       "        Id  MSSubClass MSZoning  LotFrontage  LotArea Street Alley LotShape  \\\n",
       "2909  2910         180       RM         21.0     1470   Pave   NaN      Reg   \n",
       "2910  2911         160       RM         21.0     1484   Pave   NaN      Reg   \n",
       "2911  2912          20       RL         80.0    13384   Pave   NaN      Reg   \n",
       "2912  2913         160       RM         21.0     1533   Pave   NaN      Reg   \n",
       "2913  2914         160       RM         21.0     1526   Pave   NaN      Reg   \n",
       "2914  2915         160       RM         21.0     1936   Pave   NaN      Reg   \n",
       "2915  2916         160       RM         21.0     1894   Pave   NaN      Reg   \n",
       "2916  2917          20       RL        160.0    20000   Pave   NaN      Reg   \n",
       "2917  2918          85       RL         62.0    10441   Pave   NaN      Reg   \n",
       "2918  2919          60       RL         74.0     9627   Pave   NaN      Reg   \n",
       "\n",
       "     LandContour Utilities  ... PoolArea PoolQC  Fence MiscFeature MiscVal  \\\n",
       "2909         Lvl    AllPub  ...        0    NaN    NaN         NaN       0   \n",
       "2910         Lvl    AllPub  ...        0    NaN    NaN         NaN       0   \n",
       "2911         Lvl    AllPub  ...        0    NaN    NaN         NaN       0   \n",
       "2912         Lvl    AllPub  ...        0    NaN    NaN         NaN       0   \n",
       "2913         Lvl    AllPub  ...        0    NaN  GdPrv         NaN       0   \n",
       "2914         Lvl    AllPub  ...        0    NaN    NaN         NaN       0   \n",
       "2915         Lvl    AllPub  ...        0    NaN    NaN         NaN       0   \n",
       "2916         Lvl    AllPub  ...        0    NaN    NaN         NaN       0   \n",
       "2917         Lvl    AllPub  ...        0    NaN  MnPrv        Shed     700   \n",
       "2918         Lvl    AllPub  ...        0    NaN    NaN         NaN       0   \n",
       "\n",
       "     MoSold YrSold  SaleType  SaleCondition      SalePrice  \n",
       "2909      4   2006        WD         Normal  137402.569856  \n",
       "2910      5   2006        WD         Normal  165086.775062  \n",
       "2911      5   2006        WD         Normal  188506.431412  \n",
       "2912     12   2006        WD        Abnorml  172917.456816  \n",
       "2913      6   2006        WD         Normal  166274.325226  \n",
       "2914      6   2006        WD         Normal  167081.220949  \n",
       "2915      4   2006        WD        Abnorml  164788.778231  \n",
       "2916      9   2006        WD        Abnorml  219222.423400  \n",
       "2917      7   2006        WD         Normal  184924.279659  \n",
       "2918     11   2006        WD         Normal  187741.866657  \n",
       "\n",
       "[10 rows x 81 columns]"
      ]
     },
     "execution_count": 4,
     "metadata": {},
     "output_type": "execute_result"
    }
   ],
   "source": [
    "df_train.tail(10)"
   ]
  },
  {
   "cell_type": "code",
   "execution_count": 5,
   "id": "d544df83",
   "metadata": {
    "execution": {
     "iopub.execute_input": "2023-03-02T19:58:53.032998Z",
     "iopub.status.busy": "2023-03-02T19:58:53.032534Z",
     "iopub.status.idle": "2023-03-02T19:58:53.038759Z",
     "shell.execute_reply": "2023-03-02T19:58:53.037147Z"
    },
    "papermill": {
     "duration": 0.025112,
     "end_time": "2023-03-02T19:58:53.041626",
     "exception": false,
     "start_time": "2023-03-02T19:58:53.016514",
     "status": "completed"
    },
    "tags": []
   },
   "outputs": [],
   "source": [
    "df_train=pd.DataFrame(df_train)"
   ]
  },
  {
   "cell_type": "code",
   "execution_count": 6,
   "id": "eccc036d",
   "metadata": {
    "execution": {
     "iopub.execute_input": "2023-03-02T19:58:53.070796Z",
     "iopub.status.busy": "2023-03-02T19:58:53.070323Z",
     "iopub.status.idle": "2023-03-02T19:58:53.078527Z",
     "shell.execute_reply": "2023-03-02T19:58:53.076909Z"
    },
    "papermill": {
     "duration": 0.026287,
     "end_time": "2023-03-02T19:58:53.081473",
     "exception": false,
     "start_time": "2023-03-02T19:58:53.055186",
     "status": "completed"
    },
    "tags": []
   },
   "outputs": [
    {
     "data": {
      "text/plain": [
       "(2919, 81)"
      ]
     },
     "execution_count": 6,
     "metadata": {},
     "output_type": "execute_result"
    }
   ],
   "source": [
    "df_train.shape"
   ]
  },
  {
   "cell_type": "code",
   "execution_count": 7,
   "id": "ce93644a",
   "metadata": {
    "execution": {
     "iopub.execute_input": "2023-03-02T19:58:53.112291Z",
     "iopub.status.busy": "2023-03-02T19:58:53.110864Z",
     "iopub.status.idle": "2023-03-02T19:58:53.120141Z",
     "shell.execute_reply": "2023-03-02T19:58:53.118948Z"
    },
    "papermill": {
     "duration": 0.027256,
     "end_time": "2023-03-02T19:58:53.122713",
     "exception": false,
     "start_time": "2023-03-02T19:58:53.095457",
     "status": "completed"
    },
    "tags": []
   },
   "outputs": [
    {
     "data": {
      "text/plain": [
       "Index(['Id', 'MSSubClass', 'MSZoning', 'LotFrontage', 'LotArea', 'Street',\n",
       "       'Alley', 'LotShape', 'LandContour', 'Utilities', 'LotConfig',\n",
       "       'LandSlope', 'Neighborhood', 'Condition1', 'Condition2', 'BldgType',\n",
       "       'HouseStyle', 'OverallQual', 'OverallCond', 'YearBuilt', 'YearRemodAdd',\n",
       "       'RoofStyle', 'RoofMatl', 'Exterior1st', 'Exterior2nd', 'MasVnrType',\n",
       "       'MasVnrArea', 'ExterQual', 'ExterCond', 'Foundation', 'BsmtQual',\n",
       "       'BsmtCond', 'BsmtExposure', 'BsmtFinType1', 'BsmtFinSF1',\n",
       "       'BsmtFinType2', 'BsmtFinSF2', 'BsmtUnfSF', 'TotalBsmtSF', 'Heating',\n",
       "       'HeatingQC', 'CentralAir', 'Electrical', '1stFlrSF', '2ndFlrSF',\n",
       "       'LowQualFinSF', 'GrLivArea', 'BsmtFullBath', 'BsmtHalfBath', 'FullBath',\n",
       "       'HalfBath', 'BedroomAbvGr', 'KitchenAbvGr', 'KitchenQual',\n",
       "       'TotRmsAbvGrd', 'Functional', 'Fireplaces', 'FireplaceQu', 'GarageType',\n",
       "       'GarageYrBlt', 'GarageFinish', 'GarageCars', 'GarageArea', 'GarageQual',\n",
       "       'GarageCond', 'PavedDrive', 'WoodDeckSF', 'OpenPorchSF',\n",
       "       'EnclosedPorch', '3SsnPorch', 'ScreenPorch', 'PoolArea', 'PoolQC',\n",
       "       'Fence', 'MiscFeature', 'MiscVal', 'MoSold', 'YrSold', 'SaleType',\n",
       "       'SaleCondition', 'SalePrice'],\n",
       "      dtype='object')"
      ]
     },
     "execution_count": 7,
     "metadata": {},
     "output_type": "execute_result"
    }
   ],
   "source": [
    "df_train.columns"
   ]
  },
  {
   "cell_type": "code",
   "execution_count": 8,
   "id": "a481a6af",
   "metadata": {
    "execution": {
     "iopub.execute_input": "2023-03-02T19:58:53.153853Z",
     "iopub.status.busy": "2023-03-02T19:58:53.153406Z",
     "iopub.status.idle": "2023-03-02T19:58:53.272791Z",
     "shell.execute_reply": "2023-03-02T19:58:53.271030Z"
    },
    "papermill": {
     "duration": 0.139095,
     "end_time": "2023-03-02T19:58:53.275842",
     "exception": false,
     "start_time": "2023-03-02T19:58:53.136747",
     "status": "completed"
    },
    "tags": []
   },
   "outputs": [
    {
     "data": {
      "text/html": [
       "<div>\n",
       "<style scoped>\n",
       "    .dataframe tbody tr th:only-of-type {\n",
       "        vertical-align: middle;\n",
       "    }\n",
       "\n",
       "    .dataframe tbody tr th {\n",
       "        vertical-align: top;\n",
       "    }\n",
       "\n",
       "    .dataframe thead th {\n",
       "        text-align: right;\n",
       "    }\n",
       "</style>\n",
       "<table border=\"1\" class=\"dataframe\">\n",
       "  <thead>\n",
       "    <tr style=\"text-align: right;\">\n",
       "      <th></th>\n",
       "      <th>Id</th>\n",
       "      <th>MSSubClass</th>\n",
       "      <th>LotFrontage</th>\n",
       "      <th>LotArea</th>\n",
       "      <th>OverallQual</th>\n",
       "      <th>OverallCond</th>\n",
       "      <th>YearBuilt</th>\n",
       "      <th>YearRemodAdd</th>\n",
       "      <th>MasVnrArea</th>\n",
       "      <th>BsmtFinSF1</th>\n",
       "      <th>...</th>\n",
       "      <th>WoodDeckSF</th>\n",
       "      <th>OpenPorchSF</th>\n",
       "      <th>EnclosedPorch</th>\n",
       "      <th>3SsnPorch</th>\n",
       "      <th>ScreenPorch</th>\n",
       "      <th>PoolArea</th>\n",
       "      <th>MiscVal</th>\n",
       "      <th>MoSold</th>\n",
       "      <th>YrSold</th>\n",
       "      <th>SalePrice</th>\n",
       "    </tr>\n",
       "  </thead>\n",
       "  <tbody>\n",
       "    <tr>\n",
       "      <th>count</th>\n",
       "      <td>2919.000000</td>\n",
       "      <td>2919.000000</td>\n",
       "      <td>2433.000000</td>\n",
       "      <td>2919.000000</td>\n",
       "      <td>2919.000000</td>\n",
       "      <td>2919.000000</td>\n",
       "      <td>2919.000000</td>\n",
       "      <td>2919.000000</td>\n",
       "      <td>2896.000000</td>\n",
       "      <td>2918.000000</td>\n",
       "      <td>...</td>\n",
       "      <td>2919.000000</td>\n",
       "      <td>2919.000000</td>\n",
       "      <td>2919.000000</td>\n",
       "      <td>2919.000000</td>\n",
       "      <td>2919.000000</td>\n",
       "      <td>2919.000000</td>\n",
       "      <td>2919.000000</td>\n",
       "      <td>2919.000000</td>\n",
       "      <td>2919.000000</td>\n",
       "      <td>2919.000000</td>\n",
       "    </tr>\n",
       "    <tr>\n",
       "      <th>mean</th>\n",
       "      <td>1460.000000</td>\n",
       "      <td>57.137718</td>\n",
       "      <td>69.305795</td>\n",
       "      <td>10168.114080</td>\n",
       "      <td>6.089072</td>\n",
       "      <td>5.564577</td>\n",
       "      <td>1971.312778</td>\n",
       "      <td>1984.264474</td>\n",
       "      <td>102.201312</td>\n",
       "      <td>441.423235</td>\n",
       "      <td>...</td>\n",
       "      <td>93.709832</td>\n",
       "      <td>47.486811</td>\n",
       "      <td>23.098321</td>\n",
       "      <td>2.602261</td>\n",
       "      <td>16.062350</td>\n",
       "      <td>2.251799</td>\n",
       "      <td>50.825968</td>\n",
       "      <td>6.213087</td>\n",
       "      <td>2007.792737</td>\n",
       "      <td>180052.854647</td>\n",
       "    </tr>\n",
       "    <tr>\n",
       "      <th>std</th>\n",
       "      <td>842.787043</td>\n",
       "      <td>42.517628</td>\n",
       "      <td>23.344905</td>\n",
       "      <td>7886.996359</td>\n",
       "      <td>1.409947</td>\n",
       "      <td>1.113131</td>\n",
       "      <td>30.291442</td>\n",
       "      <td>20.894344</td>\n",
       "      <td>179.334253</td>\n",
       "      <td>455.610826</td>\n",
       "      <td>...</td>\n",
       "      <td>126.526589</td>\n",
       "      <td>67.575493</td>\n",
       "      <td>64.244246</td>\n",
       "      <td>25.188169</td>\n",
       "      <td>56.184365</td>\n",
       "      <td>35.663946</td>\n",
       "      <td>567.402211</td>\n",
       "      <td>2.714762</td>\n",
       "      <td>1.314964</td>\n",
       "      <td>57381.565721</td>\n",
       "    </tr>\n",
       "    <tr>\n",
       "      <th>min</th>\n",
       "      <td>1.000000</td>\n",
       "      <td>20.000000</td>\n",
       "      <td>21.000000</td>\n",
       "      <td>1300.000000</td>\n",
       "      <td>1.000000</td>\n",
       "      <td>1.000000</td>\n",
       "      <td>1872.000000</td>\n",
       "      <td>1950.000000</td>\n",
       "      <td>0.000000</td>\n",
       "      <td>0.000000</td>\n",
       "      <td>...</td>\n",
       "      <td>0.000000</td>\n",
       "      <td>0.000000</td>\n",
       "      <td>0.000000</td>\n",
       "      <td>0.000000</td>\n",
       "      <td>0.000000</td>\n",
       "      <td>0.000000</td>\n",
       "      <td>0.000000</td>\n",
       "      <td>1.000000</td>\n",
       "      <td>2006.000000</td>\n",
       "      <td>34900.000000</td>\n",
       "    </tr>\n",
       "    <tr>\n",
       "      <th>25%</th>\n",
       "      <td>730.500000</td>\n",
       "      <td>20.000000</td>\n",
       "      <td>59.000000</td>\n",
       "      <td>7478.000000</td>\n",
       "      <td>5.000000</td>\n",
       "      <td>5.000000</td>\n",
       "      <td>1953.500000</td>\n",
       "      <td>1965.000000</td>\n",
       "      <td>0.000000</td>\n",
       "      <td>0.000000</td>\n",
       "      <td>...</td>\n",
       "      <td>0.000000</td>\n",
       "      <td>0.000000</td>\n",
       "      <td>0.000000</td>\n",
       "      <td>0.000000</td>\n",
       "      <td>0.000000</td>\n",
       "      <td>0.000000</td>\n",
       "      <td>0.000000</td>\n",
       "      <td>4.000000</td>\n",
       "      <td>2007.000000</td>\n",
       "      <td>154795.084126</td>\n",
       "    </tr>\n",
       "    <tr>\n",
       "      <th>50%</th>\n",
       "      <td>1460.000000</td>\n",
       "      <td>50.000000</td>\n",
       "      <td>68.000000</td>\n",
       "      <td>9453.000000</td>\n",
       "      <td>6.000000</td>\n",
       "      <td>5.000000</td>\n",
       "      <td>1973.000000</td>\n",
       "      <td>1993.000000</td>\n",
       "      <td>0.000000</td>\n",
       "      <td>368.500000</td>\n",
       "      <td>...</td>\n",
       "      <td>0.000000</td>\n",
       "      <td>26.000000</td>\n",
       "      <td>0.000000</td>\n",
       "      <td>0.000000</td>\n",
       "      <td>0.000000</td>\n",
       "      <td>0.000000</td>\n",
       "      <td>0.000000</td>\n",
       "      <td>6.000000</td>\n",
       "      <td>2008.000000</td>\n",
       "      <td>176734.841494</td>\n",
       "    </tr>\n",
       "    <tr>\n",
       "      <th>75%</th>\n",
       "      <td>2189.500000</td>\n",
       "      <td>70.000000</td>\n",
       "      <td>80.000000</td>\n",
       "      <td>11570.000000</td>\n",
       "      <td>7.000000</td>\n",
       "      <td>6.000000</td>\n",
       "      <td>2001.000000</td>\n",
       "      <td>2004.000000</td>\n",
       "      <td>164.000000</td>\n",
       "      <td>733.000000</td>\n",
       "      <td>...</td>\n",
       "      <td>168.000000</td>\n",
       "      <td>70.000000</td>\n",
       "      <td>0.000000</td>\n",
       "      <td>0.000000</td>\n",
       "      <td>0.000000</td>\n",
       "      <td>0.000000</td>\n",
       "      <td>0.000000</td>\n",
       "      <td>8.000000</td>\n",
       "      <td>2009.000000</td>\n",
       "      <td>191895.744157</td>\n",
       "    </tr>\n",
       "    <tr>\n",
       "      <th>max</th>\n",
       "      <td>2919.000000</td>\n",
       "      <td>190.000000</td>\n",
       "      <td>313.000000</td>\n",
       "      <td>215245.000000</td>\n",
       "      <td>10.000000</td>\n",
       "      <td>9.000000</td>\n",
       "      <td>2010.000000</td>\n",
       "      <td>2010.000000</td>\n",
       "      <td>1600.000000</td>\n",
       "      <td>5644.000000</td>\n",
       "      <td>...</td>\n",
       "      <td>1424.000000</td>\n",
       "      <td>742.000000</td>\n",
       "      <td>1012.000000</td>\n",
       "      <td>508.000000</td>\n",
       "      <td>576.000000</td>\n",
       "      <td>800.000000</td>\n",
       "      <td>17000.000000</td>\n",
       "      <td>12.000000</td>\n",
       "      <td>2010.000000</td>\n",
       "      <td>755000.000000</td>\n",
       "    </tr>\n",
       "  </tbody>\n",
       "</table>\n",
       "<p>8 rows × 38 columns</p>\n",
       "</div>"
      ],
      "text/plain": [
       "                Id   MSSubClass  LotFrontage        LotArea  OverallQual  \\\n",
       "count  2919.000000  2919.000000  2433.000000    2919.000000  2919.000000   \n",
       "mean   1460.000000    57.137718    69.305795   10168.114080     6.089072   \n",
       "std     842.787043    42.517628    23.344905    7886.996359     1.409947   \n",
       "min       1.000000    20.000000    21.000000    1300.000000     1.000000   \n",
       "25%     730.500000    20.000000    59.000000    7478.000000     5.000000   \n",
       "50%    1460.000000    50.000000    68.000000    9453.000000     6.000000   \n",
       "75%    2189.500000    70.000000    80.000000   11570.000000     7.000000   \n",
       "max    2919.000000   190.000000   313.000000  215245.000000    10.000000   \n",
       "\n",
       "       OverallCond    YearBuilt  YearRemodAdd   MasVnrArea   BsmtFinSF1  ...  \\\n",
       "count  2919.000000  2919.000000   2919.000000  2896.000000  2918.000000  ...   \n",
       "mean      5.564577  1971.312778   1984.264474   102.201312   441.423235  ...   \n",
       "std       1.113131    30.291442     20.894344   179.334253   455.610826  ...   \n",
       "min       1.000000  1872.000000   1950.000000     0.000000     0.000000  ...   \n",
       "25%       5.000000  1953.500000   1965.000000     0.000000     0.000000  ...   \n",
       "50%       5.000000  1973.000000   1993.000000     0.000000   368.500000  ...   \n",
       "75%       6.000000  2001.000000   2004.000000   164.000000   733.000000  ...   \n",
       "max       9.000000  2010.000000   2010.000000  1600.000000  5644.000000  ...   \n",
       "\n",
       "        WoodDeckSF  OpenPorchSF  EnclosedPorch    3SsnPorch  ScreenPorch  \\\n",
       "count  2919.000000  2919.000000    2919.000000  2919.000000  2919.000000   \n",
       "mean     93.709832    47.486811      23.098321     2.602261    16.062350   \n",
       "std     126.526589    67.575493      64.244246    25.188169    56.184365   \n",
       "min       0.000000     0.000000       0.000000     0.000000     0.000000   \n",
       "25%       0.000000     0.000000       0.000000     0.000000     0.000000   \n",
       "50%       0.000000    26.000000       0.000000     0.000000     0.000000   \n",
       "75%     168.000000    70.000000       0.000000     0.000000     0.000000   \n",
       "max    1424.000000   742.000000    1012.000000   508.000000   576.000000   \n",
       "\n",
       "          PoolArea       MiscVal       MoSold       YrSold      SalePrice  \n",
       "count  2919.000000   2919.000000  2919.000000  2919.000000    2919.000000  \n",
       "mean      2.251799     50.825968     6.213087  2007.792737  180052.854647  \n",
       "std      35.663946    567.402211     2.714762     1.314964   57381.565721  \n",
       "min       0.000000      0.000000     1.000000  2006.000000   34900.000000  \n",
       "25%       0.000000      0.000000     4.000000  2007.000000  154795.084126  \n",
       "50%       0.000000      0.000000     6.000000  2008.000000  176734.841494  \n",
       "75%       0.000000      0.000000     8.000000  2009.000000  191895.744157  \n",
       "max     800.000000  17000.000000    12.000000  2010.000000  755000.000000  \n",
       "\n",
       "[8 rows x 38 columns]"
      ]
     },
     "execution_count": 8,
     "metadata": {},
     "output_type": "execute_result"
    }
   ],
   "source": [
    "df_train.describe()"
   ]
  },
  {
   "cell_type": "code",
   "execution_count": 9,
   "id": "6db8688d",
   "metadata": {
    "execution": {
     "iopub.execute_input": "2023-03-02T19:58:53.307566Z",
     "iopub.status.busy": "2023-03-02T19:58:53.307087Z",
     "iopub.status.idle": "2023-03-02T19:58:53.336597Z",
     "shell.execute_reply": "2023-03-02T19:58:53.335155Z"
    },
    "papermill": {
     "duration": 0.049598,
     "end_time": "2023-03-02T19:58:53.340040",
     "exception": false,
     "start_time": "2023-03-02T19:58:53.290442",
     "status": "completed"
    },
    "tags": []
   },
   "outputs": [
    {
     "name": "stdout",
     "output_type": "stream",
     "text": [
      "<class 'pandas.core.frame.DataFrame'>\n",
      "RangeIndex: 2919 entries, 0 to 2918\n",
      "Data columns (total 81 columns):\n",
      " #   Column         Non-Null Count  Dtype  \n",
      "---  ------         --------------  -----  \n",
      " 0   Id             2919 non-null   int64  \n",
      " 1   MSSubClass     2919 non-null   int64  \n",
      " 2   MSZoning       2915 non-null   object \n",
      " 3   LotFrontage    2433 non-null   float64\n",
      " 4   LotArea        2919 non-null   int64  \n",
      " 5   Street         2919 non-null   object \n",
      " 6   Alley          198 non-null    object \n",
      " 7   LotShape       2919 non-null   object \n",
      " 8   LandContour    2919 non-null   object \n",
      " 9   Utilities      2917 non-null   object \n",
      " 10  LotConfig      2919 non-null   object \n",
      " 11  LandSlope      2919 non-null   object \n",
      " 12  Neighborhood   2919 non-null   object \n",
      " 13  Condition1     2919 non-null   object \n",
      " 14  Condition2     2919 non-null   object \n",
      " 15  BldgType       2919 non-null   object \n",
      " 16  HouseStyle     2919 non-null   object \n",
      " 17  OverallQual    2919 non-null   int64  \n",
      " 18  OverallCond    2919 non-null   int64  \n",
      " 19  YearBuilt      2919 non-null   int64  \n",
      " 20  YearRemodAdd   2919 non-null   int64  \n",
      " 21  RoofStyle      2919 non-null   object \n",
      " 22  RoofMatl       2919 non-null   object \n",
      " 23  Exterior1st    2918 non-null   object \n",
      " 24  Exterior2nd    2918 non-null   object \n",
      " 25  MasVnrType     2895 non-null   object \n",
      " 26  MasVnrArea     2896 non-null   float64\n",
      " 27  ExterQual      2919 non-null   object \n",
      " 28  ExterCond      2919 non-null   object \n",
      " 29  Foundation     2919 non-null   object \n",
      " 30  BsmtQual       2838 non-null   object \n",
      " 31  BsmtCond       2837 non-null   object \n",
      " 32  BsmtExposure   2837 non-null   object \n",
      " 33  BsmtFinType1   2840 non-null   object \n",
      " 34  BsmtFinSF1     2918 non-null   float64\n",
      " 35  BsmtFinType2   2839 non-null   object \n",
      " 36  BsmtFinSF2     2918 non-null   float64\n",
      " 37  BsmtUnfSF      2918 non-null   float64\n",
      " 38  TotalBsmtSF    2918 non-null   float64\n",
      " 39  Heating        2919 non-null   object \n",
      " 40  HeatingQC      2919 non-null   object \n",
      " 41  CentralAir     2919 non-null   object \n",
      " 42  Electrical     2918 non-null   object \n",
      " 43  1stFlrSF       2919 non-null   int64  \n",
      " 44  2ndFlrSF       2919 non-null   int64  \n",
      " 45  LowQualFinSF   2919 non-null   int64  \n",
      " 46  GrLivArea      2919 non-null   int64  \n",
      " 47  BsmtFullBath   2917 non-null   float64\n",
      " 48  BsmtHalfBath   2917 non-null   float64\n",
      " 49  FullBath       2919 non-null   int64  \n",
      " 50  HalfBath       2919 non-null   int64  \n",
      " 51  BedroomAbvGr   2919 non-null   int64  \n",
      " 52  KitchenAbvGr   2919 non-null   int64  \n",
      " 53  KitchenQual    2918 non-null   object \n",
      " 54  TotRmsAbvGrd   2919 non-null   int64  \n",
      " 55  Functional     2917 non-null   object \n",
      " 56  Fireplaces     2919 non-null   int64  \n",
      " 57  FireplaceQu    1499 non-null   object \n",
      " 58  GarageType     2762 non-null   object \n",
      " 59  GarageYrBlt    2760 non-null   float64\n",
      " 60  GarageFinish   2760 non-null   object \n",
      " 61  GarageCars     2918 non-null   float64\n",
      " 62  GarageArea     2918 non-null   float64\n",
      " 63  GarageQual     2760 non-null   object \n",
      " 64  GarageCond     2760 non-null   object \n",
      " 65  PavedDrive     2919 non-null   object \n",
      " 66  WoodDeckSF     2919 non-null   int64  \n",
      " 67  OpenPorchSF    2919 non-null   int64  \n",
      " 68  EnclosedPorch  2919 non-null   int64  \n",
      " 69  3SsnPorch      2919 non-null   int64  \n",
      " 70  ScreenPorch    2919 non-null   int64  \n",
      " 71  PoolArea       2919 non-null   int64  \n",
      " 72  PoolQC         10 non-null     object \n",
      " 73  Fence          571 non-null    object \n",
      " 74  MiscFeature    105 non-null    object \n",
      " 75  MiscVal        2919 non-null   int64  \n",
      " 76  MoSold         2919 non-null   int64  \n",
      " 77  YrSold         2919 non-null   int64  \n",
      " 78  SaleType       2918 non-null   object \n",
      " 79  SaleCondition  2919 non-null   object \n",
      " 80  SalePrice      2919 non-null   float64\n",
      "dtypes: float64(12), int64(26), object(43)\n",
      "memory usage: 1.8+ MB\n"
     ]
    }
   ],
   "source": [
    "df_train.info()"
   ]
  },
  {
   "cell_type": "markdown",
   "id": "1a5d5e62",
   "metadata": {
    "papermill": {
     "duration": 0.015235,
     "end_time": "2023-03-02T19:58:53.369810",
     "exception": false,
     "start_time": "2023-03-02T19:58:53.354575",
     "status": "completed"
    },
    "tags": []
   },
   "source": [
    "# Correlation between features and output"
   ]
  },
  {
   "cell_type": "code",
   "execution_count": 10,
   "id": "6ee9c659",
   "metadata": {
    "execution": {
     "iopub.execute_input": "2023-03-02T19:58:53.400838Z",
     "iopub.status.busy": "2023-03-02T19:58:53.400317Z",
     "iopub.status.idle": "2023-03-02T19:58:54.730059Z",
     "shell.execute_reply": "2023-03-02T19:58:54.728944Z"
    },
    "papermill": {
     "duration": 1.350153,
     "end_time": "2023-03-02T19:58:54.734474",
     "exception": false,
     "start_time": "2023-03-02T19:58:53.384321",
     "status": "completed"
    },
    "tags": []
   },
   "outputs": [
    {
     "data": {
      "text/plain": [
       "<AxesSubplot:>"
      ]
     },
     "execution_count": 10,
     "metadata": {},
     "output_type": "execute_result"
    },
    {
     "data": {
      "image/png": "[encoded data removed]",
      "text/plain": [
       "<Figure size 1500x1500 with 2 Axes>"
      ]
     },
     "metadata": {},
     "output_type": "display_data"
    }
   ],
   "source": [
    "#  we want to get the correlation between features and output(SalePrice)\n",
    "Correlation=df_train.corr()\n",
    "fig,ax=plt.subplots(figsize=(15,15))\n",
    "sns.heatmap(Correlation,square=True)"
   ]
  },
  {
   "cell_type": "code",
   "execution_count": 11,
   "id": "87651494",
   "metadata": {
    "execution": {
     "iopub.execute_input": "2023-03-02T19:58:54.772329Z",
     "iopub.status.busy": "2023-03-02T19:58:54.771534Z",
     "iopub.status.idle": "2023-03-02T19:58:54.996362Z",
     "shell.execute_reply": "2023-03-02T19:58:54.994965Z"
    },
    "papermill": {
     "duration": 0.247179,
     "end_time": "2023-03-02T19:58:54.999346",
     "exception": false,
     "start_time": "2023-03-02T19:58:54.752167",
     "status": "completed"
    },
    "tags": []
   },
   "outputs": [
    {
     "data": {
      "image/png": "[encoded data removed]",
      "text/plain": [
       "<Figure size 800x500 with 1 Axes>"
      ]
     },
     "metadata": {},
     "output_type": "display_data"
    }
   ],
   "source": [
    "# from the graph we see that there is a positive correlation between GrLivArea and SalePrice\n",
    "fig,ax=plt.subplots(figsize=(8,5))\n",
    "plt.scatter(df_train['GrLivArea'],df_train['SalePrice'],c='b')\n",
    "plt.show()"
   ]
  },
  {
   "cell_type": "code",
   "execution_count": 12,
   "id": "b3ec23f9",
   "metadata": {
    "execution": {
     "iopub.execute_input": "2023-03-02T19:58:55.036991Z",
     "iopub.status.busy": "2023-03-02T19:58:55.036231Z",
     "iopub.status.idle": "2023-03-02T19:58:55.043785Z",
     "shell.execute_reply": "2023-03-02T19:58:55.042686Z"
    },
    "papermill": {
     "duration": 0.02989,
     "end_time": "2023-03-02T19:58:55.046846",
     "exception": false,
     "start_time": "2023-03-02T19:58:55.016956",
     "status": "completed"
    },
    "tags": []
   },
   "outputs": [],
   "source": [
    "X=df_train.iloc[:,0:-1]"
   ]
  },
  {
   "cell_type": "markdown",
   "id": "9ca8247f",
   "metadata": {
    "papermill": {
     "duration": 0.017657,
     "end_time": "2023-03-02T19:58:55.081999",
     "exception": false,
     "start_time": "2023-03-02T19:58:55.064342",
     "status": "completed"
    },
    "tags": []
   },
   "source": [
    "# A dummy variable is a numeric variable that encodes categorical information."
   ]
  },
  {
   "cell_type": "code",
   "execution_count": 13,
   "id": "03c52690",
   "metadata": {
    "execution": {
     "iopub.execute_input": "2023-03-02T19:58:55.120185Z",
     "iopub.status.busy": "2023-03-02T19:58:55.119404Z",
     "iopub.status.idle": "2023-03-02T19:58:55.172931Z",
     "shell.execute_reply": "2023-03-02T19:58:55.171569Z"
    },
    "papermill": {
     "duration": 0.076273,
     "end_time": "2023-03-02T19:58:55.176002",
     "exception": false,
     "start_time": "2023-03-02T19:58:55.099729",
     "status": "completed"
    },
    "tags": []
   },
   "outputs": [],
   "source": [
    "X=pd.get_dummies(X)"
   ]
  },
  {
   "cell_type": "code",
   "execution_count": 14,
   "id": "7842a020",
   "metadata": {
    "execution": {
     "iopub.execute_input": "2023-03-02T19:58:55.212475Z",
     "iopub.status.busy": "2023-03-02T19:58:55.211968Z",
     "iopub.status.idle": "2023-03-02T19:58:55.237864Z",
     "shell.execute_reply": "2023-03-02T19:58:55.236607Z"
    },
    "papermill": {
     "duration": 0.047526,
     "end_time": "2023-03-02T19:58:55.240737",
     "exception": false,
     "start_time": "2023-03-02T19:58:55.193211",
     "status": "completed"
    },
    "tags": []
   },
   "outputs": [
    {
     "data": {
      "text/html": [
       "<div>\n",
       "<style scoped>\n",
       "    .dataframe tbody tr th:only-of-type {\n",
       "        vertical-align: middle;\n",
       "    }\n",
       "\n",
       "    .dataframe tbody tr th {\n",
       "        vertical-align: top;\n",
       "    }\n",
       "\n",
       "    .dataframe thead th {\n",
       "        text-align: right;\n",
       "    }\n",
       "</style>\n",
       "<table border=\"1\" class=\"dataframe\">\n",
       "  <thead>\n",
       "    <tr style=\"text-align: right;\">\n",
       "      <th></th>\n",
       "      <th>Id</th>\n",
       "      <th>MSSubClass</th>\n",
       "      <th>LotFrontage</th>\n",
       "      <th>LotArea</th>\n",
       "      <th>OverallQual</th>\n",
       "      <th>OverallCond</th>\n",
       "      <th>YearBuilt</th>\n",
       "      <th>YearRemodAdd</th>\n",
       "      <th>MasVnrArea</th>\n",
       "      <th>BsmtFinSF1</th>\n",
       "      <th>...</th>\n",
       "      <th>SaleType_ConLw</th>\n",
       "      <th>SaleType_New</th>\n",
       "      <th>SaleType_Oth</th>\n",
       "      <th>SaleType_WD</th>\n",
       "      <th>SaleCondition_Abnorml</th>\n",
       "      <th>SaleCondition_AdjLand</th>\n",
       "      <th>SaleCondition_Alloca</th>\n",
       "      <th>SaleCondition_Family</th>\n",
       "      <th>SaleCondition_Normal</th>\n",
       "      <th>SaleCondition_Partial</th>\n",
       "    </tr>\n",
       "  </thead>\n",
       "  <tbody>\n",
       "    <tr>\n",
       "      <th>0</th>\n",
       "      <td>1</td>\n",
       "      <td>60</td>\n",
       "      <td>65.0</td>\n",
       "      <td>8450</td>\n",
       "      <td>7</td>\n",
       "      <td>5</td>\n",
       "      <td>2003</td>\n",
       "      <td>2003</td>\n",
       "      <td>196.0</td>\n",
       "      <td>706.0</td>\n",
       "      <td>...</td>\n",
       "      <td>0</td>\n",
       "      <td>0</td>\n",
       "      <td>0</td>\n",
       "      <td>1</td>\n",
       "      <td>0</td>\n",
       "      <td>0</td>\n",
       "      <td>0</td>\n",
       "      <td>0</td>\n",
       "      <td>1</td>\n",
       "      <td>0</td>\n",
       "    </tr>\n",
       "    <tr>\n",
       "      <th>1</th>\n",
       "      <td>2</td>\n",
       "      <td>20</td>\n",
       "      <td>80.0</td>\n",
       "      <td>9600</td>\n",
       "      <td>6</td>\n",
       "      <td>8</td>\n",
       "      <td>1976</td>\n",
       "      <td>1976</td>\n",
       "      <td>0.0</td>\n",
       "      <td>978.0</td>\n",
       "      <td>...</td>\n",
       "      <td>0</td>\n",
       "      <td>0</td>\n",
       "      <td>0</td>\n",
       "      <td>1</td>\n",
       "      <td>0</td>\n",
       "      <td>0</td>\n",
       "      <td>0</td>\n",
       "      <td>0</td>\n",
       "      <td>1</td>\n",
       "      <td>0</td>\n",
       "    </tr>\n",
       "    <tr>\n",
       "      <th>2</th>\n",
       "      <td>3</td>\n",
       "      <td>60</td>\n",
       "      <td>68.0</td>\n",
       "      <td>11250</td>\n",
       "      <td>7</td>\n",
       "      <td>5</td>\n",
       "      <td>2001</td>\n",
       "      <td>2002</td>\n",
       "      <td>162.0</td>\n",
       "      <td>486.0</td>\n",
       "      <td>...</td>\n",
       "      <td>0</td>\n",
       "      <td>0</td>\n",
       "      <td>0</td>\n",
       "      <td>1</td>\n",
       "      <td>0</td>\n",
       "      <td>0</td>\n",
       "      <td>0</td>\n",
       "      <td>0</td>\n",
       "      <td>1</td>\n",
       "      <td>0</td>\n",
       "    </tr>\n",
       "    <tr>\n",
       "      <th>3</th>\n",
       "      <td>4</td>\n",
       "      <td>70</td>\n",
       "      <td>60.0</td>\n",
       "      <td>9550</td>\n",
       "      <td>7</td>\n",
       "      <td>5</td>\n",
       "      <td>1915</td>\n",
       "      <td>1970</td>\n",
       "      <td>0.0</td>\n",
       "      <td>216.0</td>\n",
       "      <td>...</td>\n",
       "      <td>0</td>\n",
       "      <td>0</td>\n",
       "      <td>0</td>\n",
       "      <td>1</td>\n",
       "      <td>1</td>\n",
       "      <td>0</td>\n",
       "      <td>0</td>\n",
       "      <td>0</td>\n",
       "      <td>0</td>\n",
       "      <td>0</td>\n",
       "    </tr>\n",
       "    <tr>\n",
       "      <th>4</th>\n",
       "      <td>5</td>\n",
       "      <td>60</td>\n",
       "      <td>84.0</td>\n",
       "      <td>14260</td>\n",
       "      <td>8</td>\n",
       "      <td>5</td>\n",
       "      <td>2000</td>\n",
       "      <td>2000</td>\n",
       "      <td>350.0</td>\n",
       "      <td>655.0</td>\n",
       "      <td>...</td>\n",
       "      <td>0</td>\n",
       "      <td>0</td>\n",
       "      <td>0</td>\n",
       "      <td>1</td>\n",
       "      <td>0</td>\n",
       "      <td>0</td>\n",
       "      <td>0</td>\n",
       "      <td>0</td>\n",
       "      <td>1</td>\n",
       "      <td>0</td>\n",
       "    </tr>\n",
       "    <tr>\n",
       "      <th>5</th>\n",
       "      <td>6</td>\n",
       "      <td>50</td>\n",
       "      <td>85.0</td>\n",
       "      <td>14115</td>\n",
       "      <td>5</td>\n",
       "      <td>5</td>\n",
       "      <td>1993</td>\n",
       "      <td>1995</td>\n",
       "      <td>0.0</td>\n",
       "      <td>732.0</td>\n",
       "      <td>...</td>\n",
       "      <td>0</td>\n",
       "      <td>0</td>\n",
       "      <td>0</td>\n",
       "      <td>1</td>\n",
       "      <td>0</td>\n",
       "      <td>0</td>\n",
       "      <td>0</td>\n",
       "      <td>0</td>\n",
       "      <td>1</td>\n",
       "      <td>0</td>\n",
       "    </tr>\n",
       "    <tr>\n",
       "      <th>6</th>\n",
       "      <td>7</td>\n",
       "      <td>20</td>\n",
       "      <td>75.0</td>\n",
       "      <td>10084</td>\n",
       "      <td>8</td>\n",
       "      <td>5</td>\n",
       "      <td>2004</td>\n",
       "      <td>2005</td>\n",
       "      <td>186.0</td>\n",
       "      <td>1369.0</td>\n",
       "      <td>...</td>\n",
       "      <td>0</td>\n",
       "      <td>0</td>\n",
       "      <td>0</td>\n",
       "      <td>1</td>\n",
       "      <td>0</td>\n",
       "      <td>0</td>\n",
       "      <td>0</td>\n",
       "      <td>0</td>\n",
       "      <td>1</td>\n",
       "      <td>0</td>\n",
       "    </tr>\n",
       "    <tr>\n",
       "      <th>7</th>\n",
       "      <td>8</td>\n",
       "      <td>60</td>\n",
       "      <td>NaN</td>\n",
       "      <td>10382</td>\n",
       "      <td>7</td>\n",
       "      <td>6</td>\n",
       "      <td>1973</td>\n",
       "      <td>1973</td>\n",
       "      <td>240.0</td>\n",
       "      <td>859.0</td>\n",
       "      <td>...</td>\n",
       "      <td>0</td>\n",
       "      <td>0</td>\n",
       "      <td>0</td>\n",
       "      <td>1</td>\n",
       "      <td>0</td>\n",
       "      <td>0</td>\n",
       "      <td>0</td>\n",
       "      <td>0</td>\n",
       "      <td>1</td>\n",
       "      <td>0</td>\n",
       "    </tr>\n",
       "    <tr>\n",
       "      <th>8</th>\n",
       "      <td>9</td>\n",
       "      <td>50</td>\n",
       "      <td>51.0</td>\n",
       "      <td>6120</td>\n",
       "      <td>7</td>\n",
       "      <td>5</td>\n",
       "      <td>1931</td>\n",
       "      <td>1950</td>\n",
       "      <td>0.0</td>\n",
       "      <td>0.0</td>\n",
       "      <td>...</td>\n",
       "      <td>0</td>\n",
       "      <td>0</td>\n",
       "      <td>0</td>\n",
       "      <td>1</td>\n",
       "      <td>1</td>\n",
       "      <td>0</td>\n",
       "      <td>0</td>\n",
       "      <td>0</td>\n",
       "      <td>0</td>\n",
       "      <td>0</td>\n",
       "    </tr>\n",
       "    <tr>\n",
       "      <th>9</th>\n",
       "      <td>10</td>\n",
       "      <td>190</td>\n",
       "      <td>50.0</td>\n",
       "      <td>7420</td>\n",
       "      <td>5</td>\n",
       "      <td>6</td>\n",
       "      <td>1939</td>\n",
       "      <td>1950</td>\n",
       "      <td>0.0</td>\n",
       "      <td>851.0</td>\n",
       "      <td>...</td>\n",
       "      <td>0</td>\n",
       "      <td>0</td>\n",
       "      <td>0</td>\n",
       "      <td>1</td>\n",
       "      <td>0</td>\n",
       "      <td>0</td>\n",
       "      <td>0</td>\n",
       "      <td>0</td>\n",
       "      <td>1</td>\n",
       "      <td>0</td>\n",
       "    </tr>\n",
       "  </tbody>\n",
       "</table>\n",
       "<p>10 rows × 289 columns</p>\n",
       "</div>"
      ],
      "text/plain": [
       "   Id  MSSubClass  LotFrontage  LotArea  OverallQual  OverallCond  YearBuilt  \\\n",
       "0   1          60         65.0     8450            7            5       2003   \n",
       "1   2          20         80.0     9600            6            8       1976   \n",
       "2   3          60         68.0    11250            7            5       2001   \n",
       "3   4          70         60.0     9550            7            5       1915   \n",
       "4   5          60         84.0    14260            8            5       2000   \n",
       "5   6          50         85.0    14115            5            5       1993   \n",
       "6   7          20         75.0    10084            8            5       2004   \n",
       "7   8          60          NaN    10382            7            6       1973   \n",
       "8   9          50         51.0     6120            7            5       1931   \n",
       "9  10         190         50.0     7420            5            6       1939   \n",
       "\n",
       "   YearRemodAdd  MasVnrArea  BsmtFinSF1  ...  SaleType_ConLw  SaleType_New  \\\n",
       "0          2003       196.0       706.0  ...               0             0   \n",
       "1          1976         0.0       978.0  ...               0             0   \n",
       "2          2002       162.0       486.0  ...               0             0   \n",
       "3          1970         0.0       216.0  ...               0             0   \n",
       "4          2000       350.0       655.0  ...               0             0   \n",
       "5          1995         0.0       732.0  ...               0             0   \n",
       "6          2005       186.0      1369.0  ...               0             0   \n",
       "7          1973       240.0       859.0  ...               0             0   \n",
       "8          1950         0.0         0.0  ...               0             0   \n",
       "9          1950         0.0       851.0  ...               0             0   \n",
       "\n",
       "   SaleType_Oth  SaleType_WD  SaleCondition_Abnorml  SaleCondition_AdjLand  \\\n",
       "0             0            1                      0                      0   \n",
       "1             0            1                      0                      0   \n",
       "2             0            1                      0                      0   \n",
       "3             0            1                      1                      0   \n",
       "4             0            1                      0                      0   \n",
       "5             0            1                      0                      0   \n",
       "6             0            1                      0                      0   \n",
       "7             0            1                      0                      0   \n",
       "8             0            1                      1                      0   \n",
       "9             0            1                      0                      0   \n",
       "\n",
       "   SaleCondition_Alloca  SaleCondition_Family  SaleCondition_Normal  \\\n",
       "0                     0                     0                     1   \n",
       "1                     0                     0                     1   \n",
       "2                     0                     0                     1   \n",
       "3                     0                     0                     0   \n",
       "4                     0                     0                     1   \n",
       "5                     0                     0                     1   \n",
       "6                     0                     0                     1   \n",
       "7                     0                     0                     1   \n",
       "8                     0                     0                     0   \n",
       "9                     0                     0                     1   \n",
       "\n",
       "   SaleCondition_Partial  \n",
       "0                      0  \n",
       "1                      0  \n",
       "2                      0  \n",
       "3                      0  \n",
       "4                      0  \n",
       "5                      0  \n",
       "6                      0  \n",
       "7                      0  \n",
       "8                      0  \n",
       "9                      0  \n",
       "\n",
       "[10 rows x 289 columns]"
      ]
     },
     "execution_count": 14,
     "metadata": {},
     "output_type": "execute_result"
    }
   ],
   "source": [
    "X.head(10)"
   ]
  },
  {
   "cell_type": "code",
   "execution_count": 15,
   "id": "3cc0269e",
   "metadata": {
    "execution": {
     "iopub.execute_input": "2023-03-02T19:58:55.279310Z",
     "iopub.status.busy": "2023-03-02T19:58:55.278156Z",
     "iopub.status.idle": "2023-03-02T19:58:55.284276Z",
     "shell.execute_reply": "2023-03-02T19:58:55.283033Z"
    },
    "papermill": {
     "duration": 0.027989,
     "end_time": "2023-03-02T19:58:55.286766",
     "exception": false,
     "start_time": "2023-03-02T19:58:55.258777",
     "status": "completed"
    },
    "tags": []
   },
   "outputs": [],
   "source": [
    "y=df_train.iloc[:,-1]"
   ]
  },
  {
   "cell_type": "code",
   "execution_count": 16,
   "id": "46ab965b",
   "metadata": {
    "execution": {
     "iopub.execute_input": "2023-03-02T19:58:55.325349Z",
     "iopub.status.busy": "2023-03-02T19:58:55.324566Z",
     "iopub.status.idle": "2023-03-02T19:58:55.332561Z",
     "shell.execute_reply": "2023-03-02T19:58:55.331425Z"
    },
    "papermill": {
     "duration": 0.030272,
     "end_time": "2023-03-02T19:58:55.335155",
     "exception": false,
     "start_time": "2023-03-02T19:58:55.304883",
     "status": "completed"
    },
    "tags": []
   },
   "outputs": [
    {
     "data": {
      "text/plain": [
       "0    208500.0\n",
       "1    181500.0\n",
       "2    223500.0\n",
       "3    140000.0\n",
       "4    250000.0\n",
       "5    143000.0\n",
       "6    307000.0\n",
       "7    200000.0\n",
       "8    129900.0\n",
       "9    118000.0\n",
       "Name: SalePrice, dtype: float64"
      ]
     },
     "execution_count": 16,
     "metadata": {},
     "output_type": "execute_result"
    }
   ],
   "source": [
    "y.head(10)"
   ]
  },
  {
   "cell_type": "code",
   "execution_count": 17,
   "id": "2297bcae",
   "metadata": {
    "execution": {
     "iopub.execute_input": "2023-03-02T19:58:55.373538Z",
     "iopub.status.busy": "2023-03-02T19:58:55.372742Z",
     "iopub.status.idle": "2023-03-02T19:58:55.379617Z",
     "shell.execute_reply": "2023-03-02T19:58:55.378711Z"
    },
    "papermill": {
     "duration": 0.028537,
     "end_time": "2023-03-02T19:58:55.381933",
     "exception": false,
     "start_time": "2023-03-02T19:58:55.353396",
     "status": "completed"
    },
    "tags": []
   },
   "outputs": [
    {
     "data": {
      "text/plain": [
       "(2919,)"
      ]
     },
     "execution_count": 17,
     "metadata": {},
     "output_type": "execute_result"
    }
   ],
   "source": [
    "y.shape"
   ]
  },
  {
   "cell_type": "code",
   "execution_count": 18,
   "id": "24924fbb",
   "metadata": {
    "execution": {
     "iopub.execute_input": "2023-03-02T19:58:55.420255Z",
     "iopub.status.busy": "2023-03-02T19:58:55.419766Z",
     "iopub.status.idle": "2023-03-02T19:58:55.438999Z",
     "shell.execute_reply": "2023-03-02T19:58:55.437779Z"
    },
    "papermill": {
     "duration": 0.041636,
     "end_time": "2023-03-02T19:58:55.441791",
     "exception": false,
     "start_time": "2023-03-02T19:58:55.400155",
     "status": "completed"
    },
    "tags": []
   },
   "outputs": [
    {
     "data": {
      "text/plain": [
       "Id                         0\n",
       "MSSubClass                 0\n",
       "LotFrontage              486\n",
       "LotArea                    0\n",
       "OverallQual                0\n",
       "                        ... \n",
       "SaleCondition_AdjLand      0\n",
       "SaleCondition_Alloca       0\n",
       "SaleCondition_Family       0\n",
       "SaleCondition_Normal       0\n",
       "SaleCondition_Partial      0\n",
       "Length: 289, dtype: int64"
      ]
     },
     "execution_count": 18,
     "metadata": {},
     "output_type": "execute_result"
    }
   ],
   "source": [
    "X.isnull().sum()"
   ]
  },
  {
   "cell_type": "code",
   "execution_count": 19,
   "id": "dcde2c23",
   "metadata": {
    "execution": {
     "iopub.execute_input": "2023-03-02T19:58:55.481104Z",
     "iopub.status.busy": "2023-03-02T19:58:55.480591Z",
     "iopub.status.idle": "2023-03-02T19:58:55.486175Z",
     "shell.execute_reply": "2023-03-02T19:58:55.484841Z"
    },
    "papermill": {
     "duration": 0.028566,
     "end_time": "2023-03-02T19:58:55.488754",
     "exception": false,
     "start_time": "2023-03-02T19:58:55.460188",
     "status": "completed"
    },
    "tags": []
   },
   "outputs": [],
   "source": [
    "Features=X.columns"
   ]
  },
  {
   "cell_type": "code",
   "execution_count": 20,
   "id": "3930c3be",
   "metadata": {
    "execution": {
     "iopub.execute_input": "2023-03-02T19:58:55.527126Z",
     "iopub.status.busy": "2023-03-02T19:58:55.526622Z",
     "iopub.status.idle": "2023-03-02T19:58:55.533372Z",
     "shell.execute_reply": "2023-03-02T19:58:55.532451Z"
    },
    "papermill": {
     "duration": 0.028796,
     "end_time": "2023-03-02T19:58:55.535672",
     "exception": false,
     "start_time": "2023-03-02T19:58:55.506876",
     "status": "completed"
    },
    "tags": []
   },
   "outputs": [
    {
     "data": {
      "text/plain": [
       "Index(['Id', 'MSSubClass', 'LotFrontage', 'LotArea', 'OverallQual',\n",
       "       'OverallCond', 'YearBuilt', 'YearRemodAdd', 'MasVnrArea', 'BsmtFinSF1',\n",
       "       ...\n",
       "       'SaleType_ConLw', 'SaleType_New', 'SaleType_Oth', 'SaleType_WD',\n",
       "       'SaleCondition_Abnorml', 'SaleCondition_AdjLand',\n",
       "       'SaleCondition_Alloca', 'SaleCondition_Family', 'SaleCondition_Normal',\n",
       "       'SaleCondition_Partial'],\n",
       "      dtype='object', length=289)"
      ]
     },
     "execution_count": 20,
     "metadata": {},
     "output_type": "execute_result"
    }
   ],
   "source": [
    "Features"
   ]
  },
  {
   "cell_type": "markdown",
   "id": "067a5f70",
   "metadata": {
    "papermill": {
     "duration": 0.017733,
     "end_time": "2023-03-02T19:58:55.571538",
     "exception": false,
     "start_time": "2023-03-02T19:58:55.553805",
     "status": "completed"
    },
    "tags": []
   },
   "source": [
    "# Handle Missing Data with Simple Imputer"
   ]
  },
  {
   "cell_type": "code",
   "execution_count": 21,
   "id": "81f0239d",
   "metadata": {
    "execution": {
     "iopub.execute_input": "2023-03-02T19:58:55.610183Z",
     "iopub.status.busy": "2023-03-02T19:58:55.609721Z",
     "iopub.status.idle": "2023-03-02T19:58:55.657423Z",
     "shell.execute_reply": "2023-03-02T19:58:55.655950Z"
    },
    "papermill": {
     "duration": 0.070756,
     "end_time": "2023-03-02T19:58:55.660529",
     "exception": false,
     "start_time": "2023-03-02T19:58:55.589773",
     "status": "completed"
    },
    "tags": []
   },
   "outputs": [],
   "source": [
    "ImputedModule = SimpleImputer(missing_values =np.nan, strategy ='mean')\n",
    "ImputedX = ImputedModule.fit(X)\n",
    "X = ImputedX.transform(X)"
   ]
  },
  {
   "cell_type": "code",
   "execution_count": 22,
   "id": "35b30c64",
   "metadata": {
    "execution": {
     "iopub.execute_input": "2023-03-02T19:58:55.699919Z",
     "iopub.status.busy": "2023-03-02T19:58:55.699442Z",
     "iopub.status.idle": "2023-03-02T19:58:55.705535Z",
     "shell.execute_reply": "2023-03-02T19:58:55.704296Z"
    },
    "papermill": {
     "duration": 0.029182,
     "end_time": "2023-03-02T19:58:55.708026",
     "exception": false,
     "start_time": "2023-03-02T19:58:55.678844",
     "status": "completed"
    },
    "tags": []
   },
   "outputs": [],
   "source": [
    "X=pd.DataFrame(X,columns=Features)"
   ]
  },
  {
   "cell_type": "code",
   "execution_count": 23,
   "id": "65fdadca",
   "metadata": {
    "execution": {
     "iopub.execute_input": "2023-03-02T19:58:55.747338Z",
     "iopub.status.busy": "2023-03-02T19:58:55.746878Z",
     "iopub.status.idle": "2023-03-02T19:58:55.788594Z",
     "shell.execute_reply": "2023-03-02T19:58:55.787191Z"
    },
    "papermill": {
     "duration": 0.064848,
     "end_time": "2023-03-02T19:58:55.791500",
     "exception": false,
     "start_time": "2023-03-02T19:58:55.726652",
     "status": "completed"
    },
    "tags": []
   },
   "outputs": [
    {
     "data": {
      "text/html": [
       "<div>\n",
       "<style scoped>\n",
       "    .dataframe tbody tr th:only-of-type {\n",
       "        vertical-align: middle;\n",
       "    }\n",
       "\n",
       "    .dataframe tbody tr th {\n",
       "        vertical-align: top;\n",
       "    }\n",
       "\n",
       "    .dataframe thead th {\n",
       "        text-align: right;\n",
       "    }\n",
       "</style>\n",
       "<table border=\"1\" class=\"dataframe\">\n",
       "  <thead>\n",
       "    <tr style=\"text-align: right;\">\n",
       "      <th></th>\n",
       "      <th>Id</th>\n",
       "      <th>MSSubClass</th>\n",
       "      <th>LotFrontage</th>\n",
       "      <th>LotArea</th>\n",
       "      <th>OverallQual</th>\n",
       "      <th>OverallCond</th>\n",
       "      <th>YearBuilt</th>\n",
       "      <th>YearRemodAdd</th>\n",
       "      <th>MasVnrArea</th>\n",
       "      <th>BsmtFinSF1</th>\n",
       "      <th>...</th>\n",
       "      <th>SaleType_ConLw</th>\n",
       "      <th>SaleType_New</th>\n",
       "      <th>SaleType_Oth</th>\n",
       "      <th>SaleType_WD</th>\n",
       "      <th>SaleCondition_Abnorml</th>\n",
       "      <th>SaleCondition_AdjLand</th>\n",
       "      <th>SaleCondition_Alloca</th>\n",
       "      <th>SaleCondition_Family</th>\n",
       "      <th>SaleCondition_Normal</th>\n",
       "      <th>SaleCondition_Partial</th>\n",
       "    </tr>\n",
       "  </thead>\n",
       "  <tbody>\n",
       "    <tr>\n",
       "      <th>0</th>\n",
       "      <td>1.0</td>\n",
       "      <td>60.0</td>\n",
       "      <td>65.000000</td>\n",
       "      <td>8450.0</td>\n",
       "      <td>7.0</td>\n",
       "      <td>5.0</td>\n",
       "      <td>2003.0</td>\n",
       "      <td>2003.0</td>\n",
       "      <td>196.0</td>\n",
       "      <td>706.0</td>\n",
       "      <td>...</td>\n",
       "      <td>0.0</td>\n",
       "      <td>0.0</td>\n",
       "      <td>0.0</td>\n",
       "      <td>1.0</td>\n",
       "      <td>0.0</td>\n",
       "      <td>0.0</td>\n",
       "      <td>0.0</td>\n",
       "      <td>0.0</td>\n",
       "      <td>1.0</td>\n",
       "      <td>0.0</td>\n",
       "    </tr>\n",
       "    <tr>\n",
       "      <th>1</th>\n",
       "      <td>2.0</td>\n",
       "      <td>20.0</td>\n",
       "      <td>80.000000</td>\n",
       "      <td>9600.0</td>\n",
       "      <td>6.0</td>\n",
       "      <td>8.0</td>\n",
       "      <td>1976.0</td>\n",
       "      <td>1976.0</td>\n",
       "      <td>0.0</td>\n",
       "      <td>978.0</td>\n",
       "      <td>...</td>\n",
       "      <td>0.0</td>\n",
       "      <td>0.0</td>\n",
       "      <td>0.0</td>\n",
       "      <td>1.0</td>\n",
       "      <td>0.0</td>\n",
       "      <td>0.0</td>\n",
       "      <td>0.0</td>\n",
       "      <td>0.0</td>\n",
       "      <td>1.0</td>\n",
       "      <td>0.0</td>\n",
       "    </tr>\n",
       "    <tr>\n",
       "      <th>2</th>\n",
       "      <td>3.0</td>\n",
       "      <td>60.0</td>\n",
       "      <td>68.000000</td>\n",
       "      <td>11250.0</td>\n",
       "      <td>7.0</td>\n",
       "      <td>5.0</td>\n",
       "      <td>2001.0</td>\n",
       "      <td>2002.0</td>\n",
       "      <td>162.0</td>\n",
       "      <td>486.0</td>\n",
       "      <td>...</td>\n",
       "      <td>0.0</td>\n",
       "      <td>0.0</td>\n",
       "      <td>0.0</td>\n",
       "      <td>1.0</td>\n",
       "      <td>0.0</td>\n",
       "      <td>0.0</td>\n",
       "      <td>0.0</td>\n",
       "      <td>0.0</td>\n",
       "      <td>1.0</td>\n",
       "      <td>0.0</td>\n",
       "    </tr>\n",
       "    <tr>\n",
       "      <th>3</th>\n",
       "      <td>4.0</td>\n",
       "      <td>70.0</td>\n",
       "      <td>60.000000</td>\n",
       "      <td>9550.0</td>\n",
       "      <td>7.0</td>\n",
       "      <td>5.0</td>\n",
       "      <td>1915.0</td>\n",
       "      <td>1970.0</td>\n",
       "      <td>0.0</td>\n",
       "      <td>216.0</td>\n",
       "      <td>...</td>\n",
       "      <td>0.0</td>\n",
       "      <td>0.0</td>\n",
       "      <td>0.0</td>\n",
       "      <td>1.0</td>\n",
       "      <td>1.0</td>\n",
       "      <td>0.0</td>\n",
       "      <td>0.0</td>\n",
       "      <td>0.0</td>\n",
       "      <td>0.0</td>\n",
       "      <td>0.0</td>\n",
       "    </tr>\n",
       "    <tr>\n",
       "      <th>4</th>\n",
       "      <td>5.0</td>\n",
       "      <td>60.0</td>\n",
       "      <td>84.000000</td>\n",
       "      <td>14260.0</td>\n",
       "      <td>8.0</td>\n",
       "      <td>5.0</td>\n",
       "      <td>2000.0</td>\n",
       "      <td>2000.0</td>\n",
       "      <td>350.0</td>\n",
       "      <td>655.0</td>\n",
       "      <td>...</td>\n",
       "      <td>0.0</td>\n",
       "      <td>0.0</td>\n",
       "      <td>0.0</td>\n",
       "      <td>1.0</td>\n",
       "      <td>0.0</td>\n",
       "      <td>0.0</td>\n",
       "      <td>0.0</td>\n",
       "      <td>0.0</td>\n",
       "      <td>1.0</td>\n",
       "      <td>0.0</td>\n",
       "    </tr>\n",
       "    <tr>\n",
       "      <th>5</th>\n",
       "      <td>6.0</td>\n",
       "      <td>50.0</td>\n",
       "      <td>85.000000</td>\n",
       "      <td>14115.0</td>\n",
       "      <td>5.0</td>\n",
       "      <td>5.0</td>\n",
       "      <td>1993.0</td>\n",
       "      <td>1995.0</td>\n",
       "      <td>0.0</td>\n",
       "      <td>732.0</td>\n",
       "      <td>...</td>\n",
       "      <td>0.0</td>\n",
       "      <td>0.0</td>\n",
       "      <td>0.0</td>\n",
       "      <td>1.0</td>\n",
       "      <td>0.0</td>\n",
       "      <td>0.0</td>\n",
       "      <td>0.0</td>\n",
       "      <td>0.0</td>\n",
       "      <td>1.0</td>\n",
       "      <td>0.0</td>\n",
       "    </tr>\n",
       "    <tr>\n",
       "      <th>6</th>\n",
       "      <td>7.0</td>\n",
       "      <td>20.0</td>\n",
       "      <td>75.000000</td>\n",
       "      <td>10084.0</td>\n",
       "      <td>8.0</td>\n",
       "      <td>5.0</td>\n",
       "      <td>2004.0</td>\n",
       "      <td>2005.0</td>\n",
       "      <td>186.0</td>\n",
       "      <td>1369.0</td>\n",
       "      <td>...</td>\n",
       "      <td>0.0</td>\n",
       "      <td>0.0</td>\n",
       "      <td>0.0</td>\n",
       "      <td>1.0</td>\n",
       "      <td>0.0</td>\n",
       "      <td>0.0</td>\n",
       "      <td>0.0</td>\n",
       "      <td>0.0</td>\n",
       "      <td>1.0</td>\n",
       "      <td>0.0</td>\n",
       "    </tr>\n",
       "    <tr>\n",
       "      <th>7</th>\n",
       "      <td>8.0</td>\n",
       "      <td>60.0</td>\n",
       "      <td>69.305795</td>\n",
       "      <td>10382.0</td>\n",
       "      <td>7.0</td>\n",
       "      <td>6.0</td>\n",
       "      <td>1973.0</td>\n",
       "      <td>1973.0</td>\n",
       "      <td>240.0</td>\n",
       "      <td>859.0</td>\n",
       "      <td>...</td>\n",
       "      <td>0.0</td>\n",
       "      <td>0.0</td>\n",
       "      <td>0.0</td>\n",
       "      <td>1.0</td>\n",
       "      <td>0.0</td>\n",
       "      <td>0.0</td>\n",
       "      <td>0.0</td>\n",
       "      <td>0.0</td>\n",
       "      <td>1.0</td>\n",
       "      <td>0.0</td>\n",
       "    </tr>\n",
       "    <tr>\n",
       "      <th>8</th>\n",
       "      <td>9.0</td>\n",
       "      <td>50.0</td>\n",
       "      <td>51.000000</td>\n",
       "      <td>6120.0</td>\n",
       "      <td>7.0</td>\n",
       "      <td>5.0</td>\n",
       "      <td>1931.0</td>\n",
       "      <td>1950.0</td>\n",
       "      <td>0.0</td>\n",
       "      <td>0.0</td>\n",
       "      <td>...</td>\n",
       "      <td>0.0</td>\n",
       "      <td>0.0</td>\n",
       "      <td>0.0</td>\n",
       "      <td>1.0</td>\n",
       "      <td>1.0</td>\n",
       "      <td>0.0</td>\n",
       "      <td>0.0</td>\n",
       "      <td>0.0</td>\n",
       "      <td>0.0</td>\n",
       "      <td>0.0</td>\n",
       "    </tr>\n",
       "    <tr>\n",
       "      <th>9</th>\n",
       "      <td>10.0</td>\n",
       "      <td>190.0</td>\n",
       "      <td>50.000000</td>\n",
       "      <td>7420.0</td>\n",
       "      <td>5.0</td>\n",
       "      <td>6.0</td>\n",
       "      <td>1939.0</td>\n",
       "      <td>1950.0</td>\n",
       "      <td>0.0</td>\n",
       "      <td>851.0</td>\n",
       "      <td>...</td>\n",
       "      <td>0.0</td>\n",
       "      <td>0.0</td>\n",
       "      <td>0.0</td>\n",
       "      <td>1.0</td>\n",
       "      <td>0.0</td>\n",
       "      <td>0.0</td>\n",
       "      <td>0.0</td>\n",
       "      <td>0.0</td>\n",
       "      <td>1.0</td>\n",
       "      <td>0.0</td>\n",
       "    </tr>\n",
       "  </tbody>\n",
       "</table>\n",
       "<p>10 rows × 289 columns</p>\n",
       "</div>"
      ],
      "text/plain": [
       "     Id  MSSubClass  LotFrontage  LotArea  OverallQual  OverallCond  \\\n",
       "0   1.0        60.0    65.000000   8450.0          7.0          5.0   \n",
       "1   2.0        20.0    80.000000   9600.0          6.0          8.0   \n",
       "2   3.0        60.0    68.000000  11250.0          7.0          5.0   \n",
       "3   4.0        70.0    60.000000   9550.0          7.0          5.0   \n",
       "4   5.0        60.0    84.000000  14260.0          8.0          5.0   \n",
       "5   6.0        50.0    85.000000  14115.0          5.0          5.0   \n",
       "6   7.0        20.0    75.000000  10084.0          8.0          5.0   \n",
       "7   8.0        60.0    69.305795  10382.0          7.0          6.0   \n",
       "8   9.0        50.0    51.000000   6120.0          7.0          5.0   \n",
       "9  10.0       190.0    50.000000   7420.0          5.0          6.0   \n",
       "\n",
       "   YearBuilt  YearRemodAdd  MasVnrArea  BsmtFinSF1  ...  SaleType_ConLw  \\\n",
       "0     2003.0        2003.0       196.0       706.0  ...             0.0   \n",
       "1     1976.0        1976.0         0.0       978.0  ...             0.0   \n",
       "2     2001.0        2002.0       162.0       486.0  ...             0.0   \n",
       "3     1915.0        1970.0         0.0       216.0  ...             0.0   \n",
       "4     2000.0        2000.0       350.0       655.0  ...             0.0   \n",
       "5     1993.0        1995.0         0.0       732.0  ...             0.0   \n",
       "6     2004.0        2005.0       186.0      1369.0  ...             0.0   \n",
       "7     1973.0        1973.0       240.0       859.0  ...             0.0   \n",
       "8     1931.0        1950.0         0.0         0.0  ...             0.0   \n",
       "9     1939.0        1950.0         0.0       851.0  ...             0.0   \n",
       "\n",
       "   SaleType_New  SaleType_Oth  SaleType_WD  SaleCondition_Abnorml  \\\n",
       "0           0.0           0.0          1.0                    0.0   \n",
       "1           0.0           0.0          1.0                    0.0   \n",
       "2           0.0           0.0          1.0                    0.0   \n",
       "3           0.0           0.0          1.0                    1.0   \n",
       "4           0.0           0.0          1.0                    0.0   \n",
       "5           0.0           0.0          1.0                    0.0   \n",
       "6           0.0           0.0          1.0                    0.0   \n",
       "7           0.0           0.0          1.0                    0.0   \n",
       "8           0.0           0.0          1.0                    1.0   \n",
       "9           0.0           0.0          1.0                    0.0   \n",
       "\n",
       "   SaleCondition_AdjLand  SaleCondition_Alloca  SaleCondition_Family  \\\n",
       "0                    0.0                   0.0                   0.0   \n",
       "1                    0.0                   0.0                   0.0   \n",
       "2                    0.0                   0.0                   0.0   \n",
       "3                    0.0                   0.0                   0.0   \n",
       "4                    0.0                   0.0                   0.0   \n",
       "5                    0.0                   0.0                   0.0   \n",
       "6                    0.0                   0.0                   0.0   \n",
       "7                    0.0                   0.0                   0.0   \n",
       "8                    0.0                   0.0                   0.0   \n",
       "9                    0.0                   0.0                   0.0   \n",
       "\n",
       "   SaleCondition_Normal  SaleCondition_Partial  \n",
       "0                   1.0                    0.0  \n",
       "1                   1.0                    0.0  \n",
       "2                   1.0                    0.0  \n",
       "3                   0.0                    0.0  \n",
       "4                   1.0                    0.0  \n",
       "5                   1.0                    0.0  \n",
       "6                   1.0                    0.0  \n",
       "7                   1.0                    0.0  \n",
       "8                   0.0                    0.0  \n",
       "9                   1.0                    0.0  \n",
       "\n",
       "[10 rows x 289 columns]"
      ]
     },
     "execution_count": 23,
     "metadata": {},
     "output_type": "execute_result"
    }
   ],
   "source": [
    "X.head(10)"
   ]
  },
  {
   "cell_type": "markdown",
   "id": "c97f154e",
   "metadata": {
    "papermill": {
     "duration": 0.018393,
     "end_time": "2023-03-02T19:58:55.828702",
     "exception": false,
     "start_time": "2023-03-02T19:58:55.810309",
     "status": "completed"
    },
    "tags": []
   },
   "source": [
    "# Feature Selection"
   ]
  },
  {
   "cell_type": "markdown",
   "id": "5afc9b26",
   "metadata": {
    "papermill": {
     "duration": 0.018599,
     "end_time": "2023-03-02T19:58:55.867252",
     "exception": false,
     "start_time": "2023-03-02T19:58:55.848653",
     "status": "completed"
    },
    "tags": []
   },
   "source": [
    "Choose best features which have high correlation with SalesPrice"
   ]
  },
  {
   "cell_type": "code",
   "execution_count": 24,
   "id": "fc69d749",
   "metadata": {
    "execution": {
     "iopub.execute_input": "2023-03-02T19:58:55.906542Z",
     "iopub.status.busy": "2023-03-02T19:58:55.906024Z",
     "iopub.status.idle": "2023-03-02T19:58:56.037572Z",
     "shell.execute_reply": "2023-03-02T19:58:56.035948Z"
    },
    "papermill": {
     "duration": 0.155764,
     "end_time": "2023-03-02T19:58:56.041365",
     "exception": false,
     "start_time": "2023-03-02T19:58:55.885601",
     "status": "completed"
    },
    "tags": []
   },
   "outputs": [],
   "source": [
    "sel = SelectFromModel(DecisionTreeRegressor(max_depth=15,random_state=33)) \n",
    "sel.fit(X,y)\n",
    "X_new= sel.transform(X)\n",
    "feature_idx =sel.get_support(indices=True)\n",
    "feature_name = X.columns[feature_idx]"
   ]
  },
  {
   "cell_type": "code",
   "execution_count": 25,
   "id": "f4eb62cc",
   "metadata": {
    "execution": {
     "iopub.execute_input": "2023-03-02T19:58:56.081070Z",
     "iopub.status.busy": "2023-03-02T19:58:56.080504Z",
     "iopub.status.idle": "2023-03-02T19:58:56.088615Z",
     "shell.execute_reply": "2023-03-02T19:58:56.087155Z"
    },
    "papermill": {
     "duration": 0.031235,
     "end_time": "2023-03-02T19:58:56.091494",
     "exception": false,
     "start_time": "2023-03-02T19:58:56.060259",
     "status": "completed"
    },
    "tags": []
   },
   "outputs": [
    {
     "data": {
      "text/plain": [
       "(19,)"
      ]
     },
     "execution_count": 25,
     "metadata": {},
     "output_type": "execute_result"
    }
   ],
   "source": [
    "feature_name.shape"
   ]
  },
  {
   "cell_type": "markdown",
   "id": "d004dcd1",
   "metadata": {
    "papermill": {
     "duration": 0.018558,
     "end_time": "2023-03-02T19:58:56.129155",
     "exception": false,
     "start_time": "2023-03-02T19:58:56.110597",
     "status": "completed"
    },
    "tags": []
   },
   "source": [
    "# Selected Features"
   ]
  },
  {
   "cell_type": "code",
   "execution_count": 26,
   "id": "71e94f97",
   "metadata": {
    "execution": {
     "iopub.execute_input": "2023-03-02T19:58:56.169361Z",
     "iopub.status.busy": "2023-03-02T19:58:56.168483Z",
     "iopub.status.idle": "2023-03-02T19:58:56.176823Z",
     "shell.execute_reply": "2023-03-02T19:58:56.175533Z"
    },
    "papermill": {
     "duration": 0.031449,
     "end_time": "2023-03-02T19:58:56.179432",
     "exception": false,
     "start_time": "2023-03-02T19:58:56.147983",
     "status": "completed"
    },
    "tags": []
   },
   "outputs": [
    {
     "data": {
      "text/plain": [
       "Index(['Id', 'LotFrontage', 'LotArea', 'OverallQual', 'YearBuilt',\n",
       "       'YearRemodAdd', 'BsmtFinSF1', 'BsmtUnfSF', 'TotalBsmtSF', '1stFlrSF',\n",
       "       '2ndFlrSF', 'GrLivArea', 'BedroomAbvGr', 'GarageYrBlt', 'GarageCars',\n",
       "       'GarageArea', 'WoodDeckSF', 'MoSold', 'LotConfig_CulDSac'],\n",
       "      dtype='object')"
      ]
     },
     "execution_count": 26,
     "metadata": {},
     "output_type": "execute_result"
    }
   ],
   "source": [
    "feature_name "
   ]
  },
  {
   "cell_type": "code",
   "execution_count": 27,
   "id": "c90e8c9e",
   "metadata": {
    "execution": {
     "iopub.execute_input": "2023-03-02T19:58:56.220018Z",
     "iopub.status.busy": "2023-03-02T19:58:56.219513Z",
     "iopub.status.idle": "2023-03-02T19:58:56.225929Z",
     "shell.execute_reply": "2023-03-02T19:58:56.224473Z"
    },
    "papermill": {
     "duration": 0.029421,
     "end_time": "2023-03-02T19:58:56.228443",
     "exception": false,
     "start_time": "2023-03-02T19:58:56.199022",
     "status": "completed"
    },
    "tags": []
   },
   "outputs": [],
   "source": [
    "X=pd.DataFrame(X_new,columns=feature_name)"
   ]
  },
  {
   "cell_type": "code",
   "execution_count": 28,
   "id": "2e053e1f",
   "metadata": {
    "execution": {
     "iopub.execute_input": "2023-03-02T19:58:56.269353Z",
     "iopub.status.busy": "2023-03-02T19:58:56.268828Z",
     "iopub.status.idle": "2023-03-02T19:58:56.274177Z",
     "shell.execute_reply": "2023-03-02T19:58:56.273150Z"
    },
    "papermill": {
     "duration": 0.028735,
     "end_time": "2023-03-02T19:58:56.276574",
     "exception": false,
     "start_time": "2023-03-02T19:58:56.247839",
     "status": "completed"
    },
    "tags": []
   },
   "outputs": [],
   "source": [
    "X=pd.DataFrame(X)"
   ]
  },
  {
   "cell_type": "markdown",
   "id": "d8031a0b",
   "metadata": {
    "papermill": {
     "duration": 0.018961,
     "end_time": "2023-03-02T19:58:56.315038",
     "exception": false,
     "start_time": "2023-03-02T19:58:56.296077",
     "status": "completed"
    },
    "tags": []
   },
   "source": [
    "# Data Scaling (Normalization)"
   ]
  },
  {
   "cell_type": "code",
   "execution_count": 29,
   "id": "40a1eb12",
   "metadata": {
    "execution": {
     "iopub.execute_input": "2023-03-02T19:58:56.355435Z",
     "iopub.status.busy": "2023-03-02T19:58:56.354826Z",
     "iopub.status.idle": "2023-03-02T19:58:56.366195Z",
     "shell.execute_reply": "2023-03-02T19:58:56.364943Z"
    },
    "papermill": {
     "duration": 0.034922,
     "end_time": "2023-03-02T19:58:56.369015",
     "exception": false,
     "start_time": "2023-03-02T19:58:56.334093",
     "status": "completed"
    },
    "tags": []
   },
   "outputs": [],
   "source": [
    "scaler = MinMaxScaler(feature_range = (0,1))\n",
    "X = scaler.fit_transform(X)\n",
    "X=pd.DataFrame(X,columns=feature_name)"
   ]
  },
  {
   "cell_type": "code",
   "execution_count": 30,
   "id": "5032157d",
   "metadata": {
    "execution": {
     "iopub.execute_input": "2023-03-02T19:58:56.409835Z",
     "iopub.status.busy": "2023-03-02T19:58:56.408915Z",
     "iopub.status.idle": "2023-03-02T19:58:56.437579Z",
     "shell.execute_reply": "2023-03-02T19:58:56.436123Z"
    },
    "papermill": {
     "duration": 0.052569,
     "end_time": "2023-03-02T19:58:56.440640",
     "exception": false,
     "start_time": "2023-03-02T19:58:56.388071",
     "status": "completed"
    },
    "tags": []
   },
   "outputs": [
    {
     "data": {
      "text/html": [
       "<div>\n",
       "<style scoped>\n",
       "    .dataframe tbody tr th:only-of-type {\n",
       "        vertical-align: middle;\n",
       "    }\n",
       "\n",
       "    .dataframe tbody tr th {\n",
       "        vertical-align: top;\n",
       "    }\n",
       "\n",
       "    .dataframe thead th {\n",
       "        text-align: right;\n",
       "    }\n",
       "</style>\n",
       "<table border=\"1\" class=\"dataframe\">\n",
       "  <thead>\n",
       "    <tr style=\"text-align: right;\">\n",
       "      <th></th>\n",
       "      <th>Id</th>\n",
       "      <th>LotFrontage</th>\n",
       "      <th>LotArea</th>\n",
       "      <th>OverallQual</th>\n",
       "      <th>YearBuilt</th>\n",
       "      <th>YearRemodAdd</th>\n",
       "      <th>BsmtFinSF1</th>\n",
       "      <th>BsmtUnfSF</th>\n",
       "      <th>TotalBsmtSF</th>\n",
       "      <th>1stFlrSF</th>\n",
       "      <th>2ndFlrSF</th>\n",
       "      <th>GrLivArea</th>\n",
       "      <th>BedroomAbvGr</th>\n",
       "      <th>GarageYrBlt</th>\n",
       "      <th>GarageCars</th>\n",
       "      <th>GarageArea</th>\n",
       "      <th>WoodDeckSF</th>\n",
       "      <th>MoSold</th>\n",
       "      <th>LotConfig_CulDSac</th>\n",
       "    </tr>\n",
       "  </thead>\n",
       "  <tbody>\n",
       "    <tr>\n",
       "      <th>0</th>\n",
       "      <td>0.000000</td>\n",
       "      <td>0.150685</td>\n",
       "      <td>0.033420</td>\n",
       "      <td>0.666667</td>\n",
       "      <td>0.949275</td>\n",
       "      <td>0.883333</td>\n",
       "      <td>0.125089</td>\n",
       "      <td>0.064212</td>\n",
       "      <td>0.140098</td>\n",
       "      <td>0.109641</td>\n",
       "      <td>0.413559</td>\n",
       "      <td>0.259231</td>\n",
       "      <td>0.375</td>\n",
       "      <td>0.346154</td>\n",
       "      <td>0.4</td>\n",
       "      <td>0.368280</td>\n",
       "      <td>0.000000</td>\n",
       "      <td>0.090909</td>\n",
       "      <td>0.0</td>\n",
       "    </tr>\n",
       "    <tr>\n",
       "      <th>1</th>\n",
       "      <td>0.000343</td>\n",
       "      <td>0.202055</td>\n",
       "      <td>0.038795</td>\n",
       "      <td>0.555556</td>\n",
       "      <td>0.753623</td>\n",
       "      <td>0.433333</td>\n",
       "      <td>0.173281</td>\n",
       "      <td>0.121575</td>\n",
       "      <td>0.206547</td>\n",
       "      <td>0.194917</td>\n",
       "      <td>0.000000</td>\n",
       "      <td>0.174830</td>\n",
       "      <td>0.375</td>\n",
       "      <td>0.259615</td>\n",
       "      <td>0.4</td>\n",
       "      <td>0.309140</td>\n",
       "      <td>0.209270</td>\n",
       "      <td>0.363636</td>\n",
       "      <td>0.0</td>\n",
       "    </tr>\n",
       "    <tr>\n",
       "      <th>2</th>\n",
       "      <td>0.000685</td>\n",
       "      <td>0.160959</td>\n",
       "      <td>0.046507</td>\n",
       "      <td>0.666667</td>\n",
       "      <td>0.934783</td>\n",
       "      <td>0.866667</td>\n",
       "      <td>0.086109</td>\n",
       "      <td>0.185788</td>\n",
       "      <td>0.150573</td>\n",
       "      <td>0.123083</td>\n",
       "      <td>0.419370</td>\n",
       "      <td>0.273549</td>\n",
       "      <td>0.375</td>\n",
       "      <td>0.339744</td>\n",
       "      <td>0.4</td>\n",
       "      <td>0.408602</td>\n",
       "      <td>0.000000</td>\n",
       "      <td>0.727273</td>\n",
       "      <td>0.0</td>\n",
       "    </tr>\n",
       "    <tr>\n",
       "      <th>3</th>\n",
       "      <td>0.001028</td>\n",
       "      <td>0.133562</td>\n",
       "      <td>0.038561</td>\n",
       "      <td>0.666667</td>\n",
       "      <td>0.311594</td>\n",
       "      <td>0.333333</td>\n",
       "      <td>0.038271</td>\n",
       "      <td>0.231164</td>\n",
       "      <td>0.123732</td>\n",
       "      <td>0.131695</td>\n",
       "      <td>0.366102</td>\n",
       "      <td>0.260550</td>\n",
       "      <td>0.375</td>\n",
       "      <td>0.330128</td>\n",
       "      <td>0.6</td>\n",
       "      <td>0.431452</td>\n",
       "      <td>0.000000</td>\n",
       "      <td>0.090909</td>\n",
       "      <td>0.0</td>\n",
       "    </tr>\n",
       "    <tr>\n",
       "      <th>4</th>\n",
       "      <td>0.001371</td>\n",
       "      <td>0.215753</td>\n",
       "      <td>0.060576</td>\n",
       "      <td>0.777778</td>\n",
       "      <td>0.927536</td>\n",
       "      <td>0.833333</td>\n",
       "      <td>0.116052</td>\n",
       "      <td>0.209760</td>\n",
       "      <td>0.187398</td>\n",
       "      <td>0.170342</td>\n",
       "      <td>0.509927</td>\n",
       "      <td>0.351168</td>\n",
       "      <td>0.500</td>\n",
       "      <td>0.336538</td>\n",
       "      <td>0.6</td>\n",
       "      <td>0.561828</td>\n",
       "      <td>0.134831</td>\n",
       "      <td>1.000000</td>\n",
       "      <td>0.0</td>\n",
       "    </tr>\n",
       "    <tr>\n",
       "      <th>5</th>\n",
       "      <td>0.001714</td>\n",
       "      <td>0.219178</td>\n",
       "      <td>0.059899</td>\n",
       "      <td>0.444444</td>\n",
       "      <td>0.876812</td>\n",
       "      <td>0.750000</td>\n",
       "      <td>0.129695</td>\n",
       "      <td>0.027397</td>\n",
       "      <td>0.130278</td>\n",
       "      <td>0.097038</td>\n",
       "      <td>0.274092</td>\n",
       "      <td>0.193670</td>\n",
       "      <td>0.125</td>\n",
       "      <td>0.314103</td>\n",
       "      <td>0.4</td>\n",
       "      <td>0.322581</td>\n",
       "      <td>0.028090</td>\n",
       "      <td>0.818182</td>\n",
       "      <td>0.0</td>\n",
       "    </tr>\n",
       "    <tr>\n",
       "      <th>6</th>\n",
       "      <td>0.002056</td>\n",
       "      <td>0.184932</td>\n",
       "      <td>0.041057</td>\n",
       "      <td>0.777778</td>\n",
       "      <td>0.956522</td>\n",
       "      <td>0.916667</td>\n",
       "      <td>0.242558</td>\n",
       "      <td>0.135702</td>\n",
       "      <td>0.275941</td>\n",
       "      <td>0.285654</td>\n",
       "      <td>0.000000</td>\n",
       "      <td>0.256217</td>\n",
       "      <td>0.375</td>\n",
       "      <td>0.349359</td>\n",
       "      <td>0.4</td>\n",
       "      <td>0.427419</td>\n",
       "      <td>0.179073</td>\n",
       "      <td>0.636364</td>\n",
       "      <td>0.0</td>\n",
       "    </tr>\n",
       "    <tr>\n",
       "      <th>7</th>\n",
       "      <td>0.002399</td>\n",
       "      <td>0.165431</td>\n",
       "      <td>0.042450</td>\n",
       "      <td>0.666667</td>\n",
       "      <td>0.731884</td>\n",
       "      <td>0.383333</td>\n",
       "      <td>0.152197</td>\n",
       "      <td>0.092466</td>\n",
       "      <td>0.181178</td>\n",
       "      <td>0.162361</td>\n",
       "      <td>0.476029</td>\n",
       "      <td>0.330821</td>\n",
       "      <td>0.375</td>\n",
       "      <td>0.250000</td>\n",
       "      <td>0.4</td>\n",
       "      <td>0.325269</td>\n",
       "      <td>0.165028</td>\n",
       "      <td>0.909091</td>\n",
       "      <td>0.0</td>\n",
       "    </tr>\n",
       "    <tr>\n",
       "      <th>8</th>\n",
       "      <td>0.002742</td>\n",
       "      <td>0.102740</td>\n",
       "      <td>0.022529</td>\n",
       "      <td>0.666667</td>\n",
       "      <td>0.427536</td>\n",
       "      <td>0.000000</td>\n",
       "      <td>0.000000</td>\n",
       "      <td>0.407534</td>\n",
       "      <td>0.155810</td>\n",
       "      <td>0.144507</td>\n",
       "      <td>0.364165</td>\n",
       "      <td>0.271289</td>\n",
       "      <td>0.250</td>\n",
       "      <td>0.115385</td>\n",
       "      <td>0.4</td>\n",
       "      <td>0.314516</td>\n",
       "      <td>0.063202</td>\n",
       "      <td>0.272727</td>\n",
       "      <td>0.0</td>\n",
       "    </tr>\n",
       "    <tr>\n",
       "      <th>9</th>\n",
       "      <td>0.003084</td>\n",
       "      <td>0.099315</td>\n",
       "      <td>0.028605</td>\n",
       "      <td>0.444444</td>\n",
       "      <td>0.485507</td>\n",
       "      <td>0.000000</td>\n",
       "      <td>0.150780</td>\n",
       "      <td>0.059932</td>\n",
       "      <td>0.162193</td>\n",
       "      <td>0.156060</td>\n",
       "      <td>0.000000</td>\n",
       "      <td>0.139977</td>\n",
       "      <td>0.250</td>\n",
       "      <td>0.141026</td>\n",
       "      <td>0.2</td>\n",
       "      <td>0.137769</td>\n",
       "      <td>0.000000</td>\n",
       "      <td>0.000000</td>\n",
       "      <td>0.0</td>\n",
       "    </tr>\n",
       "  </tbody>\n",
       "</table>\n",
       "</div>"
      ],
      "text/plain": [
       "         Id  LotFrontage   LotArea  OverallQual  YearBuilt  YearRemodAdd  \\\n",
       "0  0.000000     0.150685  0.033420     0.666667   0.949275      0.883333   \n",
       "1  0.000343     0.202055  0.038795     0.555556   0.753623      0.433333   \n",
       "2  0.000685     0.160959  0.046507     0.666667   0.934783      0.866667   \n",
       "3  0.001028     0.133562  0.038561     0.666667   0.311594      0.333333   \n",
       "4  0.001371     0.215753  0.060576     0.777778   0.927536      0.833333   \n",
       "5  0.001714     0.219178  0.059899     0.444444   0.876812      0.750000   \n",
       "6  0.002056     0.184932  0.041057     0.777778   0.956522      0.916667   \n",
       "7  0.002399     0.165431  0.042450     0.666667   0.731884      0.383333   \n",
       "8  0.002742     0.102740  0.022529     0.666667   0.427536      0.000000   \n",
       "9  0.003084     0.099315  0.028605     0.444444   0.485507      0.000000   \n",
       "\n",
       "   BsmtFinSF1  BsmtUnfSF  TotalBsmtSF  1stFlrSF  2ndFlrSF  GrLivArea  \\\n",
       "0    0.125089   0.064212     0.140098  0.109641  0.413559   0.259231   \n",
       "1    0.173281   0.121575     0.206547  0.194917  0.000000   0.174830   \n",
       "2    0.086109   0.185788     0.150573  0.123083  0.419370   0.273549   \n",
       "3    0.038271   0.231164     0.123732  0.131695  0.366102   0.260550   \n",
       "4    0.116052   0.209760     0.187398  0.170342  0.509927   0.351168   \n",
       "5    0.129695   0.027397     0.130278  0.097038  0.274092   0.193670   \n",
       "6    0.242558   0.135702     0.275941  0.285654  0.000000   0.256217   \n",
       "7    0.152197   0.092466     0.181178  0.162361  0.476029   0.330821   \n",
       "8    0.000000   0.407534     0.155810  0.144507  0.364165   0.271289   \n",
       "9    0.150780   0.059932     0.162193  0.156060  0.000000   0.139977   \n",
       "\n",
       "   BedroomAbvGr  GarageYrBlt  GarageCars  GarageArea  WoodDeckSF    MoSold  \\\n",
       "0         0.375     0.346154         0.4    0.368280    0.000000  0.090909   \n",
       "1         0.375     0.259615         0.4    0.309140    0.209270  0.363636   \n",
       "2         0.375     0.339744         0.4    0.408602    0.000000  0.727273   \n",
       "3         0.375     0.330128         0.6    0.431452    0.000000  0.090909   \n",
       "4         0.500     0.336538         0.6    0.561828    0.134831  1.000000   \n",
       "5         0.125     0.314103         0.4    0.322581    0.028090  0.818182   \n",
       "6         0.375     0.349359         0.4    0.427419    0.179073  0.636364   \n",
       "7         0.375     0.250000         0.4    0.325269    0.165028  0.909091   \n",
       "8         0.250     0.115385         0.4    0.314516    0.063202  0.272727   \n",
       "9         0.250     0.141026         0.2    0.137769    0.000000  0.000000   \n",
       "\n",
       "   LotConfig_CulDSac  \n",
       "0                0.0  \n",
       "1                0.0  \n",
       "2                0.0  \n",
       "3                0.0  \n",
       "4                0.0  \n",
       "5                0.0  \n",
       "6                0.0  \n",
       "7                0.0  \n",
       "8                0.0  \n",
       "9                0.0  "
      ]
     },
     "execution_count": 30,
     "metadata": {},
     "output_type": "execute_result"
    }
   ],
   "source": [
    "X.head(10)"
   ]
  },
  {
   "cell_type": "code",
   "execution_count": 31,
   "id": "a1bb8f57",
   "metadata": {
    "execution": {
     "iopub.execute_input": "2023-03-02T19:58:56.482256Z",
     "iopub.status.busy": "2023-03-02T19:58:56.481726Z",
     "iopub.status.idle": "2023-03-02T19:58:56.490057Z",
     "shell.execute_reply": "2023-03-02T19:58:56.488725Z"
    },
    "papermill": {
     "duration": 0.032172,
     "end_time": "2023-03-02T19:58:56.492778",
     "exception": false,
     "start_time": "2023-03-02T19:58:56.460606",
     "status": "completed"
    },
    "tags": []
   },
   "outputs": [
    {
     "data": {
      "text/plain": [
       "(2919,)"
      ]
     },
     "execution_count": 31,
     "metadata": {},
     "output_type": "execute_result"
    }
   ],
   "source": [
    "y.shape"
   ]
  },
  {
   "cell_type": "code",
   "execution_count": 32,
   "id": "a7e9d81b",
   "metadata": {
    "execution": {
     "iopub.execute_input": "2023-03-02T19:58:56.534588Z",
     "iopub.status.busy": "2023-03-02T19:58:56.534099Z",
     "iopub.status.idle": "2023-03-02T19:58:56.544126Z",
     "shell.execute_reply": "2023-03-02T19:58:56.542586Z"
    },
    "papermill": {
     "duration": 0.034339,
     "end_time": "2023-03-02T19:58:56.546841",
     "exception": false,
     "start_time": "2023-03-02T19:58:56.512502",
     "status": "completed"
    },
    "tags": []
   },
   "outputs": [],
   "source": [
    "y = scaler.fit_transform(pd.DataFrame(y)) "
   ]
  },
  {
   "cell_type": "markdown",
   "id": "6ae23e59",
   "metadata": {
    "papermill": {
     "duration": 0.02085,
     "end_time": "2023-03-02T19:58:56.587510",
     "exception": false,
     "start_time": "2023-03-02T19:58:56.566660",
     "status": "completed"
    },
    "tags": []
   },
   "source": [
    "# Split Data into Train and Test"
   ]
  },
  {
   "cell_type": "code",
   "execution_count": 33,
   "id": "3cfe3f2b",
   "metadata": {
    "execution": {
     "iopub.execute_input": "2023-03-02T19:58:56.629684Z",
     "iopub.status.busy": "2023-03-02T19:58:56.629221Z",
     "iopub.status.idle": "2023-03-02T19:58:56.638887Z",
     "shell.execute_reply": "2023-03-02T19:58:56.637860Z"
    },
    "papermill": {
     "duration": 0.033901,
     "end_time": "2023-03-02T19:58:56.641615",
     "exception": false,
     "start_time": "2023-03-02T19:58:56.607714",
     "status": "completed"
    },
    "tags": []
   },
   "outputs": [],
   "source": [
    "from sklearn.model_selection import train_test_split\n",
    "X_train, X_test, y_train, y_test = train_test_split(X, y, test_size=0.33,  shuffle=True, random_state=42)"
   ]
  },
  {
   "cell_type": "code",
   "execution_count": 34,
   "id": "4d0bab82",
   "metadata": {
    "execution": {
     "iopub.execute_input": "2023-03-02T19:58:56.683523Z",
     "iopub.status.busy": "2023-03-02T19:58:56.682427Z",
     "iopub.status.idle": "2023-03-02T19:58:56.687701Z",
     "shell.execute_reply": "2023-03-02T19:58:56.686645Z"
    },
    "papermill": {
     "duration": 0.028663,
     "end_time": "2023-03-02T19:58:56.690016",
     "exception": false,
     "start_time": "2023-03-02T19:58:56.661353",
     "status": "completed"
    },
    "tags": []
   },
   "outputs": [],
   "source": [
    "name=[]\n",
    "Test_score=[]"
   ]
  },
  {
   "cell_type": "markdown",
   "id": "c93f754f",
   "metadata": {
    "papermill": {
     "duration": 0.019069,
     "end_time": "2023-03-02T19:58:56.729345",
     "exception": false,
     "start_time": "2023-03-02T19:58:56.710276",
     "status": "completed"
    },
    "tags": []
   },
   "source": [
    "# Choose Best Model"
   ]
  },
  {
   "cell_type": "code",
   "execution_count": 35,
   "id": "1d6a0e61",
   "metadata": {
    "execution": {
     "iopub.execute_input": "2023-03-02T19:58:56.773109Z",
     "iopub.status.busy": "2023-03-02T19:58:56.772138Z",
     "iopub.status.idle": "2023-03-02T19:58:57.589842Z",
     "shell.execute_reply": "2023-03-02T19:58:57.588141Z"
    },
    "papermill": {
     "duration": 0.844341,
     "end_time": "2023-03-02T19:58:57.593581",
     "exception": false,
     "start_time": "2023-03-02T19:58:56.749240",
     "status": "completed"
    },
    "tags": []
   },
   "outputs": [
    {
     "name": "stdout",
     "output_type": "stream",
     "text": [
      "Linear Regression Train Score is :  0.9792772472364666\n",
      "Linear Regression Test Score is :  0.9795647216816855\n"
     ]
    }
   ],
   "source": [
    "RandomForestRegressorModel = RandomForestRegressor(n_estimators=30,max_depth=30, random_state=33)\n",
    "RandomForestRegressorModel.fit(X, y)\n",
    "name.append(\"RandomForestRegressorModel\")\n",
    "print('Linear Regression Train Score is : ' , RandomForestRegressorModel.score(X_train, y_train))\n",
    "print('Linear Regression Test Score is : ' , RandomForestRegressorModel.score(X_test, y_test))\n",
    "Test_score.append(RandomForestRegressorModel.score(X_test, y_test))"
   ]
  },
  {
   "cell_type": "code",
   "execution_count": 36,
   "id": "09fd4c53",
   "metadata": {
    "execution": {
     "iopub.execute_input": "2023-03-02T19:58:57.639469Z",
     "iopub.status.busy": "2023-03-02T19:58:57.638953Z",
     "iopub.status.idle": "2023-03-02T19:58:57.671288Z",
     "shell.execute_reply": "2023-03-02T19:58:57.669721Z"
    },
    "papermill": {
     "duration": 0.05954,
     "end_time": "2023-03-02T19:58:57.675975",
     "exception": false,
     "start_time": "2023-03-02T19:58:57.616435",
     "status": "completed"
    },
    "tags": []
   },
   "outputs": [
    {
     "name": "stdout",
     "output_type": "stream",
     "text": [
      "Linear Regression Train Score is :  0.46268452852764397\n",
      "Linear Regression Test Score is :  0.46413823982493363\n"
     ]
    }
   ],
   "source": [
    "LinearRegressionModel = LinearRegression(fit_intercept=True, normalize=True,copy_X=True,n_jobs=-1)\n",
    "LinearRegressionModel.fit(X, y)\n",
    "name.append(\"LinearRegressionModel\")\n",
    "print('Linear Regression Train Score is : ' , LinearRegressionModel.score(X_train, y_train))\n",
    "print('Linear Regression Test Score is : ' , LinearRegressionModel.score(X_test, y_test))\n",
    "Test_score.append(LinearRegressionModel.score(X_test, y_test))"
   ]
  },
  {
   "cell_type": "code",
   "execution_count": 37,
   "id": "f4c0a828",
   "metadata": {
    "execution": {
     "iopub.execute_input": "2023-03-02T19:58:57.747652Z",
     "iopub.status.busy": "2023-03-02T19:58:57.745506Z",
     "iopub.status.idle": "2023-03-02T19:58:57.820789Z",
     "shell.execute_reply": "2023-03-02T19:58:57.819147Z"
    },
    "papermill": {
     "duration": 0.115658,
     "end_time": "2023-03-02T19:58:57.824490",
     "exception": false,
     "start_time": "2023-03-02T19:58:57.708832",
     "status": "completed"
    },
    "tags": []
   },
   "outputs": [
    {
     "name": "stdout",
     "output_type": "stream",
     "text": [
      "DecisionTreeRegressor Train Score is :  0.9971970308348228\n",
      "DecisionTreeRegressor Test Score is :  0.9983104590891628\n"
     ]
    }
   ],
   "source": [
    "DecisionTreeRegressorModel = DecisionTreeRegressor(max_depth=15,random_state=33)\n",
    "DecisionTreeRegressorModel.fit(X, y)\n",
    "name.append(\"DecisionTreeRegressorModel\")\n",
    "print('DecisionTreeRegressor Train Score is : ' , DecisionTreeRegressorModel.score(X_train, y_train))\n",
    "print('DecisionTreeRegressor Test Score is : ' , DecisionTreeRegressorModel.score(X_test, y_test))\n",
    "Test_score.append(DecisionTreeRegressorModel.score(X_test, y_test))"
   ]
  },
  {
   "cell_type": "code",
   "execution_count": 38,
   "id": "bff44c7d",
   "metadata": {
    "execution": {
     "iopub.execute_input": "2023-03-02T19:58:57.866667Z",
     "iopub.status.busy": "2023-03-02T19:58:57.866197Z",
     "iopub.status.idle": "2023-03-02T19:58:58.786586Z",
     "shell.execute_reply": "2023-03-02T19:58:58.785166Z"
    },
    "papermill": {
     "duration": 0.944975,
     "end_time": "2023-03-02T19:58:58.789800",
     "exception": false,
     "start_time": "2023-03-02T19:58:57.844825",
     "status": "completed"
    },
    "tags": []
   },
   "outputs": [
    {
     "name": "stdout",
     "output_type": "stream",
     "text": [
      "GBRModel Train Score is :  0.9999999999999671\n",
      "GBRModel Test Score is :  0.9999999999999764\n"
     ]
    }
   ],
   "source": [
    "from sklearn.ensemble import GradientBoostingRegressor\n",
    "GBRModel = GradientBoostingRegressor(n_estimators=100,max_depth=15,learning_rate = 0.8 ,random_state=33)\n",
    "GBRModel.fit(X, y)\n",
    " \n",
    "\n",
    "#Calculating Details\n",
    "print('GBRModel Train Score is : ' , GBRModel.score(X_train, y_train))\n",
    "print('GBRModel Test Score is : ' , GBRModel.score(X_test, y_test)) "
   ]
  },
  {
   "cell_type": "code",
   "execution_count": 39,
   "id": "049f5e29",
   "metadata": {
    "execution": {
     "iopub.execute_input": "2023-03-02T19:58:58.834525Z",
     "iopub.status.busy": "2023-03-02T19:58:58.833709Z",
     "iopub.status.idle": "2023-03-02T19:59:00.867955Z",
     "shell.execute_reply": "2023-03-02T19:59:00.866576Z"
    },
    "papermill": {
     "duration": 2.0623,
     "end_time": "2023-03-02T19:59:00.873121",
     "exception": false,
     "start_time": "2023-03-02T19:58:58.810821",
     "status": "completed"
    },
    "tags": []
   },
   "outputs": [
    {
     "name": "stdout",
     "output_type": "stream",
     "text": [
      "MLPRegressorModel Train Score is :  0.8744052494413044\n",
      "MLPRegressorModel Test Score is :  0.893379116490456\n"
     ]
    }
   ],
   "source": [
    "from sklearn.neural_network import MLPRegressor\n",
    "\n",
    "MLPRegressorModel = MLPRegressor(activation='relu', # can be also identity , logistic , relu\n",
    "                                 solver='lbfgs',  # can be also sgd , adam\n",
    "                                 learning_rate='adaptive', # can be also invscaling , adaptive\n",
    "                                 early_stopping= False,\n",
    "                                 alpha=0.0001 ,hidden_layer_sizes=(100, 3),random_state=33)\n",
    "MLPRegressorModel.fit(X, y)\n",
    "name.append(\"MLPRegressor\")\n",
    "\n",
    "#Calculating Details\n",
    "print('MLPRegressorModel Train Score is : ' , MLPRegressorModel.score(X_train, y_train))\n",
    "print('MLPRegressorModel Test Score is : ' , MLPRegressorModel.score(X_test, y_test))\n",
    "Test_score.append(MLPRegressorModel.score(X_test, y_test))"
   ]
  },
  {
   "cell_type": "code",
   "execution_count": 40,
   "id": "12bf84ad",
   "metadata": {
    "execution": {
     "iopub.execute_input": "2023-03-02T19:59:00.950794Z",
     "iopub.status.busy": "2023-03-02T19:59:00.950164Z",
     "iopub.status.idle": "2023-03-02T19:59:00.963344Z",
     "shell.execute_reply": "2023-03-02T19:59:00.961452Z"
    },
    "papermill": {
     "duration": 0.059623,
     "end_time": "2023-03-02T19:59:00.967976",
     "exception": false,
     "start_time": "2023-03-02T19:59:00.908353",
     "status": "completed"
    },
    "tags": []
   },
   "outputs": [],
   "source": [
    "Model=pd.DataFrame (name,columns = ['Model'])   \n",
    "Test_Accuracy=pd.DataFrame (Test_score,columns = ['Test_Accuracy'])   "
   ]
  },
  {
   "cell_type": "code",
   "execution_count": 41,
   "id": "34fdb6d5",
   "metadata": {
    "execution": {
     "iopub.execute_input": "2023-03-02T19:59:01.016917Z",
     "iopub.status.busy": "2023-03-02T19:59:01.016468Z",
     "iopub.status.idle": "2023-03-02T19:59:01.030393Z",
     "shell.execute_reply": "2023-03-02T19:59:01.029342Z"
    },
    "papermill": {
     "duration": 0.038017,
     "end_time": "2023-03-02T19:59:01.032918",
     "exception": false,
     "start_time": "2023-03-02T19:59:00.994901",
     "status": "completed"
    },
    "tags": []
   },
   "outputs": [
    {
     "data": {
      "text/html": [
       "<div>\n",
       "<style scoped>\n",
       "    .dataframe tbody tr th:only-of-type {\n",
       "        vertical-align: middle;\n",
       "    }\n",
       "\n",
       "    .dataframe tbody tr th {\n",
       "        vertical-align: top;\n",
       "    }\n",
       "\n",
       "    .dataframe thead th {\n",
       "        text-align: right;\n",
       "    }\n",
       "</style>\n",
       "<table border=\"1\" class=\"dataframe\">\n",
       "  <thead>\n",
       "    <tr style=\"text-align: right;\">\n",
       "      <th></th>\n",
       "      <th>Model</th>\n",
       "      <th>Test_Accuracy</th>\n",
       "    </tr>\n",
       "  </thead>\n",
       "  <tbody>\n",
       "    <tr>\n",
       "      <th>0</th>\n",
       "      <td>RandomForestRegressorModel</td>\n",
       "      <td>0.979565</td>\n",
       "    </tr>\n",
       "    <tr>\n",
       "      <th>1</th>\n",
       "      <td>LinearRegressionModel</td>\n",
       "      <td>0.464138</td>\n",
       "    </tr>\n",
       "    <tr>\n",
       "      <th>2</th>\n",
       "      <td>DecisionTreeRegressorModel</td>\n",
       "      <td>0.998310</td>\n",
       "    </tr>\n",
       "    <tr>\n",
       "      <th>3</th>\n",
       "      <td>MLPRegressor</td>\n",
       "      <td>0.893379</td>\n",
       "    </tr>\n",
       "  </tbody>\n",
       "</table>\n",
       "</div>"
      ],
      "text/plain": [
       "                        Model  Test_Accuracy\n",
       "0  RandomForestRegressorModel       0.979565\n",
       "1       LinearRegressionModel       0.464138\n",
       "2  DecisionTreeRegressorModel       0.998310\n",
       "3                MLPRegressor       0.893379"
      ]
     },
     "execution_count": 41,
     "metadata": {},
     "output_type": "execute_result"
    }
   ],
   "source": [
    "pd.concat([Model,Test_Accuracy],axis=1)"
   ]
  },
  {
   "cell_type": "markdown",
   "id": "1037c1d4",
   "metadata": {
    "papermill": {
     "duration": 0.019391,
     "end_time": "2023-03-02T19:59:01.072326",
     "exception": false,
     "start_time": "2023-03-02T19:59:01.052935",
     "status": "completed"
    },
    "tags": []
   },
   "source": [
    "# We will use DecisionTreeRegressor Model"
   ]
  },
  {
   "cell_type": "code",
   "execution_count": 42,
   "id": "d4f18075",
   "metadata": {
    "execution": {
     "iopub.execute_input": "2023-03-02T19:59:01.114611Z",
     "iopub.status.busy": "2023-03-02T19:59:01.113778Z",
     "iopub.status.idle": "2023-03-02T19:59:01.122776Z",
     "shell.execute_reply": "2023-03-02T19:59:01.121522Z"
    },
    "papermill": {
     "duration": 0.033651,
     "end_time": "2023-03-02T19:59:01.125790",
     "exception": false,
     "start_time": "2023-03-02T19:59:01.092139",
     "status": "completed"
    },
    "tags": []
   },
   "outputs": [],
   "source": [
    "y_pred = DecisionTreeRegressorModel.predict(X_test)\n",
    "data=pd.DataFrame(y_pred,columns=[\"predicted_salePrice\"])\n",
    "data['Actual_SalesPrice']=y_test"
   ]
  },
  {
   "cell_type": "code",
   "execution_count": 43,
   "id": "54189053",
   "metadata": {
    "execution": {
     "iopub.execute_input": "2023-03-02T19:59:01.167862Z",
     "iopub.status.busy": "2023-03-02T19:59:01.167360Z",
     "iopub.status.idle": "2023-03-02T19:59:01.180083Z",
     "shell.execute_reply": "2023-03-02T19:59:01.178675Z"
    },
    "papermill": {
     "duration": 0.03705,
     "end_time": "2023-03-02T19:59:01.182900",
     "exception": false,
     "start_time": "2023-03-02T19:59:01.145850",
     "status": "completed"
    },
    "tags": []
   },
   "outputs": [
    {
     "data": {
      "text/html": [
       "<div>\n",
       "<style scoped>\n",
       "    .dataframe tbody tr th:only-of-type {\n",
       "        vertical-align: middle;\n",
       "    }\n",
       "\n",
       "    .dataframe tbody tr th {\n",
       "        vertical-align: top;\n",
       "    }\n",
       "\n",
       "    .dataframe thead th {\n",
       "        text-align: right;\n",
       "    }\n",
       "</style>\n",
       "<table border=\"1\" class=\"dataframe\">\n",
       "  <thead>\n",
       "    <tr style=\"text-align: right;\">\n",
       "      <th></th>\n",
       "      <th>predicted_salePrice</th>\n",
       "      <th>Actual_SalesPrice</th>\n",
       "    </tr>\n",
       "  </thead>\n",
       "  <tbody>\n",
       "    <tr>\n",
       "      <th>0</th>\n",
       "      <td>0.201634</td>\n",
       "      <td>0.201634</td>\n",
       "    </tr>\n",
       "    <tr>\n",
       "      <th>1</th>\n",
       "      <td>0.219118</td>\n",
       "      <td>0.219118</td>\n",
       "    </tr>\n",
       "    <tr>\n",
       "      <th>2</th>\n",
       "      <td>0.171160</td>\n",
       "      <td>0.171160</td>\n",
       "    </tr>\n",
       "    <tr>\n",
       "      <th>3</th>\n",
       "      <td>0.211915</td>\n",
       "      <td>0.211915</td>\n",
       "    </tr>\n",
       "    <tr>\n",
       "      <th>4</th>\n",
       "      <td>0.190423</td>\n",
       "      <td>0.190423</td>\n",
       "    </tr>\n",
       "    <tr>\n",
       "      <th>5</th>\n",
       "      <td>0.384630</td>\n",
       "      <td>0.384630</td>\n",
       "    </tr>\n",
       "    <tr>\n",
       "      <th>6</th>\n",
       "      <td>0.165506</td>\n",
       "      <td>0.165442</td>\n",
       "    </tr>\n",
       "    <tr>\n",
       "      <th>7</th>\n",
       "      <td>0.312595</td>\n",
       "      <td>0.312595</td>\n",
       "    </tr>\n",
       "    <tr>\n",
       "      <th>8</th>\n",
       "      <td>0.210231</td>\n",
       "      <td>0.209830</td>\n",
       "    </tr>\n",
       "    <tr>\n",
       "      <th>9</th>\n",
       "      <td>0.203969</td>\n",
       "      <td>0.203740</td>\n",
       "    </tr>\n",
       "  </tbody>\n",
       "</table>\n",
       "</div>"
      ],
      "text/plain": [
       "   predicted_salePrice  Actual_SalesPrice\n",
       "0             0.201634           0.201634\n",
       "1             0.219118           0.219118\n",
       "2             0.171160           0.171160\n",
       "3             0.211915           0.211915\n",
       "4             0.190423           0.190423\n",
       "5             0.384630           0.384630\n",
       "6             0.165506           0.165442\n",
       "7             0.312595           0.312595\n",
       "8             0.210231           0.209830\n",
       "9             0.203969           0.203740"
      ]
     },
     "execution_count": 43,
     "metadata": {},
     "output_type": "execute_result"
    }
   ],
   "source": [
    "data.head(10) "
   ]
  },
  {
   "cell_type": "code",
   "execution_count": 44,
   "id": "b7535176",
   "metadata": {
    "execution": {
     "iopub.execute_input": "2023-03-02T19:59:01.226820Z",
     "iopub.status.busy": "2023-03-02T19:59:01.226350Z",
     "iopub.status.idle": "2023-03-02T19:59:01.510621Z",
     "shell.execute_reply": "2023-03-02T19:59:01.509146Z"
    },
    "papermill": {
     "duration": 0.3094,
     "end_time": "2023-03-02T19:59:01.513504",
     "exception": false,
     "start_time": "2023-03-02T19:59:01.204104",
     "status": "completed"
    },
    "tags": []
   },
   "outputs": [
    {
     "data": {
      "text/plain": [
       "<AxesSubplot:ylabel='Density'>"
      ]
     },
     "execution_count": 44,
     "metadata": {},
     "output_type": "execute_result"
    },
    {
     "data": {
      "image/png": "[encoded data removed]",
      "text/plain": [
       "<Figure size 640x480 with 1 Axes>"
      ]
     },
     "metadata": {},
     "output_type": "display_data"
    }
   ],
   "source": [
    "sns.distplot(y_pred)"
   ]
  },
  {
   "cell_type": "code",
   "execution_count": 45,
   "id": "12105f2b",
   "metadata": {
    "execution": {
     "iopub.execute_input": "2023-03-02T19:59:01.558453Z",
     "iopub.status.busy": "2023-03-02T19:59:01.557064Z",
     "iopub.status.idle": "2023-03-02T19:59:01.731001Z",
     "shell.execute_reply": "2023-03-02T19:59:01.729793Z"
    },
    "papermill": {
     "duration": 0.198874,
     "end_time": "2023-03-02T19:59:01.733530",
     "exception": false,
     "start_time": "2023-03-02T19:59:01.534656",
     "status": "completed"
    },
    "tags": []
   },
   "outputs": [
    {
     "data": {
      "text/plain": [
       "<matplotlib.collections.PathCollection at 0x7f4cfd2c9bd0>"
      ]
     },
     "execution_count": 45,
     "metadata": {},
     "output_type": "execute_result"
    },
    {
     "data": {
      "image/png": "[encoded data removed]",
      "text/plain": [
       "<Figure size 640x480 with 1 Axes>"
      ]
     },
     "metadata": {},
     "output_type": "display_data"
    }
   ],
   "source": [
    "plt.scatter(y_pred,y_test)"
   ]
  }
 ],
 "metadata": {
  "kernelspec": {
   "display_name": "Python 3",
   "language": "python",
   "name": "python3"
  },
  "language_info": {
   "codemirror_mode": {
    "name": "ipython",
    "version": 3
   },
   "file_extension": ".py",
   "mimetype": "text/x-python",
   "name": "python",
   "nbconvert_exporter": "python",
   "pygments_lexer": "ipython3",
   "version": "3.7.12"
  },
  "papermill": {
   "default_parameters": {},
   "duration": 22.760414,
   "end_time": "2023-03-02T19:59:02.578925",
   "environment_variables": {},
   "exception": null,
   "input_path": "__notebook__.ipynb",
   "output_path": "__notebook__.ipynb",
   "parameters": {},
   "start_time": "2023-03-02T19:58:39.818511",
   "version": "2.4.0"
  }
 },
 "nbformat": 4,
 "nbformat_minor": 5
}
